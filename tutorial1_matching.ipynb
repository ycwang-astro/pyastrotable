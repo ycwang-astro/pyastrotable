{
 "cells": [
  {
   "cell_type": "markdown",
   "id": "5ea7c1b5-7ac1-4cc7-b706-fc9cdb6634ee",
   "metadata": {},
   "source": [
    "This notebook will demostrate how to match catalogs with this package."
   ]
  },
  {
   "cell_type": "markdown",
   "id": "4661c2d0-9a4f-408a-8d9b-675474eb49c1",
   "metadata": {},
   "source": [
    "## Data I/O\n",
    "<!-- To initialize an `astrotable.table.Data` object, input path to the data, an `astropy.table.Table` object, or anything that can be converted to an `astropy.table.Table` object.  -->\n",
    "In this package, data are handled by the `astrotable.table.Data` class. To get started, import the `astrotable.table.Data` class:"
   ]
  },
  {
   "cell_type": "code",
   "execution_count": 1,
   "id": "27c975de-2635-44c3-ac15-cc1cdf6b9815",
   "metadata": {},
   "outputs": [],
   "source": [
    "from astrotable.table import Data"
   ]
  },
  {
   "cell_type": "markdown",
   "id": "b65ddd1c-21fb-45ec-a2dc-b371d70422a6",
   "metadata": {},
   "source": [
    "Initialize a `Data` object simply using the path to the data file (note that the files in `./samples/` directory are randomly generated datasets):"
   ]
  },
  {
   "cell_type": "code",
   "execution_count": 2,
   "id": "87ca2a06-656e-4115-8405-8613c1fd3b26",
   "metadata": {},
   "outputs": [],
   "source": [
    "cat1 = Data('samples/catalog1.csv', name='cat1')"
   ]
  },
  {
   "cell_type": "markdown",
   "id": "93dd5a83-230b-4fa3-af9c-efa19ab9e136",
   "metadata": {},
   "source": [
    "It is highly recommended to input a `name` keyword argument, as this name will be used to distinguish different datasets. if `Data` is initialized with a path to file and no `name` is given, it will be automatically set to the file name.\n",
    "\n",
    "Inside the class, the data is stored in an `astropy.table.Table` object, which can be accessed by `data.t`. Thus, you can do anything as you can do with an `astropy.table.Table` object. "
   ]
  },
  {
   "cell_type": "code",
   "execution_count": 3,
   "id": "73e03731-37a2-436b-a821-2a0ae4ff9921",
   "metadata": {},
   "outputs": [
    {
     "name": "stdout",
     "output_type": "stream",
     "text": [
      "Name: cat1\n"
     ]
    },
    {
     "data": {
      "text/html": [
       "<div><i>Table length=100</i>\n",
       "<table id=\"table1743860694992\" class=\"table-striped table-bordered table-condensed\">\n",
       "<thead><tr><th>survey1_id</th><th>RA</th><th>Dec</th><th>A</th><th>B</th></tr></thead>\n",
       "<thead><tr><th>int32</th><th>float64</th><th>float64</th><th>int32</th><th>int32</th></tr></thead>\n",
       "<tr><td>0</td><td>213.97270432253802</td><td>-64.56756226110878</td><td>6308</td><td>233</td></tr>\n",
       "<tr><td>1</td><td>201.52301875416597</td><td>-9.28690472041771</td><td>8670</td><td>329</td></tr>\n",
       "<tr><td>2</td><td>269.99728512493795</td><td>-58.493484032138056</td><td>1803</td><td>21</td></tr>\n",
       "<tr><td>3</td><td>9.154948591816833</td><td>-48.53721306047669</td><td>9376</td><td>332</td></tr>\n",
       "<tr><td>4</td><td>90.38158728957859</td><td>-60.65028754242699</td><td>5231</td><td>459</td></tr>\n",
       "<tr><td>5</td><td>94.5738843176371</td><td>-0.300580707865322</td><td>6119</td><td>353</td></tr>\n",
       "<tr><td>6</td><td>348.60867552294656</td><td>-83.26014129433523</td><td>337</td><td>332</td></tr>\n",
       "<tr><td>7</td><td>132.1381138144912</td><td>-64.92924394039969</td><td>4552</td><td>143</td></tr>\n",
       "<tr><td>8</td><td>187.4328313492788</td><td>-44.073367589742766</td><td>72</td><td>156</td></tr>\n",
       "<tr><td>9</td><td>104.02947521856244</td><td>-31.695448201512292</td><td>6628</td><td>220</td></tr>\n",
       "<tr><td>...</td><td>...</td><td>...</td><td>...</td><td>...</td></tr>\n",
       "<tr><td>90</td><td>183.21096948806547</td><td>-86.80314477177195</td><td>4450</td><td>187</td></tr>\n",
       "<tr><td>91</td><td>307.66114011653536</td><td>-72.34968378847701</td><td>7552</td><td>286</td></tr>\n",
       "<tr><td>92</td><td>305.2672709585981</td><td>-89.98144431227014</td><td>344</td><td>422</td></tr>\n",
       "<tr><td>93</td><td>199.33023329905095</td><td>-43.04272123589508</td><td>937</td><td>371</td></tr>\n",
       "<tr><td>94</td><td>38.60838741180505</td><td>-31.22680066907673</td><td>9025</td><td>244</td></tr>\n",
       "<tr><td>95</td><td>302.8474245577353</td><td>-13.221287144773967</td><td>2118</td><td>87</td></tr>\n",
       "<tr><td>96</td><td>284.75509086569633</td><td>-72.37106650435335</td><td>4933</td><td>184</td></tr>\n",
       "<tr><td>97</td><td>36.42887931968059</td><td>-19.121006117289895</td><td>5569</td><td>52</td></tr>\n",
       "<tr><td>98</td><td>258.90594070885226</td><td>-24.705594353445946</td><td>2612</td><td>81</td></tr>\n",
       "<tr><td>99</td><td>107.22750573859943</td><td>-41.85365330641917</td><td>1341</td><td>69</td></tr>\n",
       "</table></div>"
      ],
      "text/plain": [
       "<Table length=100>\n",
       "survey1_id         RA                 Dec           A     B  \n",
       "  int32         float64             float64       int32 int32\n",
       "---------- ------------------ ------------------- ----- -----\n",
       "         0 213.97270432253802  -64.56756226110878  6308   233\n",
       "         1 201.52301875416597   -9.28690472041771  8670   329\n",
       "         2 269.99728512493795 -58.493484032138056  1803    21\n",
       "         3  9.154948591816833  -48.53721306047669  9376   332\n",
       "         4  90.38158728957859  -60.65028754242699  5231   459\n",
       "         5   94.5738843176371  -0.300580707865322  6119   353\n",
       "         6 348.60867552294656  -83.26014129433523   337   332\n",
       "         7  132.1381138144912  -64.92924394039969  4552   143\n",
       "         8  187.4328313492788 -44.073367589742766    72   156\n",
       "         9 104.02947521856244 -31.695448201512292  6628   220\n",
       "       ...                ...                 ...   ...   ...\n",
       "        90 183.21096948806547  -86.80314477177195  4450   187\n",
       "        91 307.66114011653536  -72.34968378847701  7552   286\n",
       "        92  305.2672709585981  -89.98144431227014   344   422\n",
       "        93 199.33023329905095  -43.04272123589508   937   371\n",
       "        94  38.60838741180505  -31.22680066907673  9025   244\n",
       "        95  302.8474245577353 -13.221287144773967  2118    87\n",
       "        96 284.75509086569633  -72.37106650435335  4933   184\n",
       "        97  36.42887931968059 -19.121006117289895  5569    52\n",
       "        98 258.90594070885226 -24.705594353445946  2612    81\n",
       "        99 107.22750573859943  -41.85365330641917  1341    69"
      ]
     },
     "execution_count": 3,
     "metadata": {},
     "output_type": "execute_result"
    }
   ],
   "source": [
    "print(\"Name:\", cat1.name)\n",
    "cat1.t"
   ]
  },
  {
   "cell_type": "markdown",
   "id": "2f591c7c-34ed-4fa4-8c9f-208e292915e3",
   "metadata": {},
   "source": [
    "You may also add keyword arguments to be passed to `astropy.table.Table.read()`:"
   ]
  },
  {
   "cell_type": "code",
   "execution_count": 4,
   "id": "74508206-0270-4983-a69e-e51c72bd4efb",
   "metadata": {},
   "outputs": [],
   "source": [
    "cat3id = Data('samples/catalog3_id.txt', name='cat3id',\n",
    "              names=['cat3ID', 'survey2_id'], format='ascii')\n",
    "cat3v = Data('samples/catalog3_measurement.txt', name='cat3v',\n",
    "             names=['survey2_id', 'x', 'y', 'class1'], format='ascii')"
   ]
  },
  {
   "cell_type": "markdown",
   "id": "f768140d-ab58-4865-9e0c-8e8923c465a0",
   "metadata": {},
   "source": [
    "A `Data` object can also be created with an `astropy.table.Table` object, or anything that can be converted to an `astropy.table.Table` object. "
   ]
  },
  {
   "cell_type": "code",
   "execution_count": 5,
   "id": "d7d9afa8-7b48-499b-b4bd-0edaabbc4e59",
   "metadata": {},
   "outputs": [],
   "source": [
    "from astropy.table import Table\n",
    "cat2_table = Table.read('samples/catalog2.fits')\n",
    "cat2 = Data(cat2_table, name='cat2')\n",
    "cat4_dict = dict(Table.read('samples/catalog4.hdf5'))\n",
    "# print(cat4_dict)\n",
    "cat4 = Data(cat4_dict, name='cat4')"
   ]
  },
  {
   "cell_type": "markdown",
   "id": "aee4a83b-9bf3-4026-ad23-95eed2e737fe",
   "metadata": {},
   "source": [
    "<!-- Let us have a look at  -->"
   ]
  },
  {
   "cell_type": "markdown",
   "id": "0cd12b5d-9eb1-4a56-ae39-18eebe825335",
   "metadata": {},
   "source": [
    "## Matching\n",
    "In this package, catalog B is said to be *matched to* A, if each record (row) in A is assigned two values:\n",
    "- Whether it can be matched to a record in catalog B;\n",
    "- The index of the best match record in catalog B (if no match possible, the index can be any number but means nothing).\n",
    "\n",
    "A is referred to as the *base data* of the match.\n",
    "\n",
    "### Matching with a built-in matcher\n",
    "To match `cat4` to `cat1` with the exact value of the `'survey1_id'` field in `cat1` and the `'survey1_id'` field in `cat4`, use an `ExactMatcher`:"
   ]
  },
  {
   "cell_type": "code",
   "execution_count": 6,
   "id": "6d71dfe2-7749-4fb7-a654-0e9a4d62408c",
   "metadata": {},
   "outputs": [
    {
     "name": "stdout",
     "output_type": "stream",
     "text": [
      "\"cat4\" matched to \"cat1\": 51/100 matched.\n"
     ]
    },
    {
     "data": {
      "text/plain": [
       "<astrotable.table.Data at 0x1960807a680>"
      ]
     },
     "execution_count": 6,
     "metadata": {},
     "output_type": "execute_result"
    }
   ],
   "source": [
    "from astrotable.matcher import ExactMatcher\n",
    "cat1.match(cat4, ExactMatcher('survey1_id', 'survey1_id'))"
   ]
  },
  {
   "cell_type": "markdown",
   "id": "ad833467-1b4b-4d13-b671-da54fda6d975",
   "metadata": {},
   "source": [
    "Since there are more than one records for the same `'survey1_id'` in `cat4`, matching `cat1` to `cat4` is not equal to matching `cat4` to `cat1`:"
   ]
  },
  {
   "cell_type": "code",
   "execution_count": 7,
   "id": "320b3605-d2bc-46b3-9e3e-1c88407a36bf",
   "metadata": {},
   "outputs": [
    {
     "name": "stdout",
     "output_type": "stream",
     "text": [
      "\"cat1\" matched to \"cat4\": 70/70 matched.\n"
     ]
    },
    {
     "data": {
      "text/plain": [
       "<astrotable.table.Data at 0x1960807aec0>"
      ]
     },
     "execution_count": 7,
     "metadata": {},
     "output_type": "execute_result"
    }
   ],
   "source": [
    "cat4.match(cat1, ExactMatcher('survey1_id', 'survey1_id'))"
   ]
  },
  {
   "cell_type": "markdown",
   "id": "532a817f-1fd3-47d2-b55f-7918be988125",
   "metadata": {},
   "source": [
    "You may use any iterable object (e.g. an array) to match the catalogs, provided that what is used to match catalogs has the same length (i.e. number of records) as the catalogs."
   ]
  },
  {
   "cell_type": "code",
   "execution_count": 8,
   "id": "4fe0255a-4d86-4469-bc79-114be8caa63c",
   "metadata": {},
   "outputs": [
    {
     "name": "stdout",
     "output_type": "stream",
     "text": [
      "len(cat3v) = 110\n",
      "len(cat3id) = 110\n",
      "\"cat3v\" matched to \"cat2\": 110/150 matched.\n"
     ]
    },
    {
     "data": {
      "text/plain": [
       "<astrotable.table.Data at 0x1960807aef0>"
      ]
     },
     "execution_count": 8,
     "metadata": {},
     "output_type": "execute_result"
    }
   ],
   "source": [
    "print('len(cat3v) =', len(cat3v))\n",
    "print('len(cat3id) =', len(cat3id))\n",
    "cat2.match(cat3v, ExactMatcher('survey2_id', cat3id.t['survey2_id']))"
   ]
  },
  {
   "cell_type": "markdown",
   "id": "1f78d6bb-0b16-4830-a521-7eaa7f1494b8",
   "metadata": {},
   "source": [
    "You can also match data with thier coordinates:"
   ]
  },
  {
   "cell_type": "code",
   "execution_count": 9,
   "id": "b538b0c5-fafa-4621-aef3-bbc1f6e59ab2",
   "metadata": {},
   "outputs": [
    {
     "name": "stdout",
     "output_type": "stream",
     "text": [
      "Data cat1: found RA name 'RA' and Dec name 'Dec'.\n",
      "Data cat2: found RA name 'RA' and Dec name 'Dec'.\n",
      "\"cat2\" matched to \"cat1\": 90/100 matched.\n"
     ]
    },
    {
     "data": {
      "text/plain": [
       "<astrotable.table.Data at 0x1960807a680>"
      ]
     },
     "execution_count": 9,
     "metadata": {},
     "output_type": "execute_result"
    }
   ],
   "source": [
    "from astrotable.matcher import SkyMatcher\n",
    "import astropy.units as u\n",
    "cat1.match(cat2, SkyMatcher(unit=u.deg, unit1=(u.h, u.deg))) # RA for cat1 is dms; RA for cat2 is hms."
   ]
  },
  {
   "cell_type": "markdown",
   "id": "23eee20e-74a9-4476-8b88-821841cb6636",
   "metadata": {},
   "source": [
    "For more information on `SkyMatcher`, use `help(SkyMatcher)`.\n",
    "\n",
    "To remove all matches to `cat1`, use:"
   ]
  },
  {
   "cell_type": "code",
   "execution_count": 10,
   "id": "3bf6b271-99ea-406a-9576-29939e6e67b3",
   "metadata": {},
   "outputs": [],
   "source": [
    "# cat1.reset_match()"
   ]
  },
  {
   "cell_type": "markdown",
   "id": "3d7c4e18-76fb-48d7-ac67-67322cda8421",
   "metadata": {},
   "source": [
    "### Defining custom matchers\n",
    "You may also define your own matchers. A macther class should be defined like this:"
   ]
  },
  {
   "cell_type": "code",
   "execution_count": 11,
   "id": "5b775cb7-b74d-4c77-aed6-2cce0ff7c0d5",
   "metadata": {},
   "outputs": [],
   "source": [
    "class MyMatcher():\n",
    "    def __init__(self, args): # 'args' means any number of arguments that you need\n",
    "        # initialize it with args you need\n",
    "        pass\n",
    "    \n",
    "    def get_values(self, data, data1, verbose=True): # data1 is matched to data\n",
    "        # prepare the data that is needed to do the matching (if necessary)\n",
    "        pass\n",
    "    \n",
    "    def match(self):\n",
    "        # do the matching process and calculate:\n",
    "        # idx : array of shape (len(data), ). \n",
    "        #     the index of a record in data1 that best matches the records in data\n",
    "        # matched : boolean array of shape (len(data), ).\n",
    "        #     whether the records in data can be matched to those in data1.\n",
    "        return idx, matched"
   ]
  },
  {
   "cell_type": "markdown",
   "id": "71d21e11-fa4d-4ac7-8bbf-0edacd8cdf9d",
   "metadata": {},
   "source": [
    "## Merging catalogs"
   ]
  },
  {
   "cell_type": "markdown",
   "id": "b64b669e-49f7-4cb6-a4c1-0ccdba8ca96d",
   "metadata": {},
   "source": [
    "### Match tree\n",
    "If B is matched to A, I call A as the *child data* of B, and B as the *parent data* of A.\n",
    "\n",
    "Say B, C are matched to A, and D is matched to B. Then B, C are children of A, and D is child of B. When we try to merge everything into A<!-- (i.e. add the information of corresponding records in B, C, D into A)--> (i.e. merge the information in A's chilren, grandchildren, etc. into A), it may be useful to see all of its children/grandchildren, or what I call the *match tree*:"
   ]
  },
  {
   "cell_type": "code",
   "execution_count": 12,
   "id": "70b0698a-7172-423e-8a0f-666b086fe814",
   "metadata": {},
   "outputs": [
    {
     "name": "stdout",
     "output_type": "stream",
     "text": [
      "Names with parentheses are already matched, thus they are not expanded and will be ignored when merging.\n",
      "---------------\n",
      "cat1\n",
      ":   cat4\n",
      ":   :   (cat1)\n",
      ":   cat2\n",
      ":   :   cat3v\n",
      "---------------\n"
     ]
    }
   ],
   "source": [
    "cat1.match_tree(detail=False)"
   ]
  },
  {
   "cell_type": "markdown",
   "id": "c269fdcf-b76e-4b32-a952-fa2c3dd30741",
   "metadata": {},
   "source": [
    "From the *match tree* we may see that `cat4` and `cat2` are matched to `cat1` and `cat3v` is matched to `cat2`. Although `cat1` is also matched to `cat4`, this match is a duplication in this match tree, and will be ignored when merging everything (`cat4`, `cat2` and `cat3v`) into `cat1`.\n",
    "\n",
    "For more information on how they are matched:"
   ]
  },
  {
   "cell_type": "code",
   "execution_count": 13,
   "id": "d71193f1-4322-4d1c-892a-4b340778dfdd",
   "metadata": {},
   "outputs": [
    {
     "name": "stdout",
     "output_type": "stream",
     "text": [
      "Names with parentheses are already matched, thus they are not expanded and will be ignored when merging.\n",
      "---------------\n",
      "cat1 [base]\n",
      ":   cat4 [ExactMatcher('survey1_id', 'survey1_id')]\n",
      ":   :   (cat1) [ExactMatcher('survey1_id', 'survey1_id')]\n",
      ":   cat2 [SkyMatcher with thres=1]\n",
      ":   :   cat3v [ExactMatcher('survey2_id', 'survey2_id')]\n",
      "---------------\n"
     ]
    }
   ],
   "source": [
    "cat1.match_tree(detail=True)"
   ]
  },
  {
   "cell_type": "markdown",
   "id": "9fbc7b17-97c7-40dc-8852-d743f0a9b94d",
   "metadata": {},
   "source": [
    "For example, we may also use `cat4` as the base catalog:"
   ]
  },
  {
   "cell_type": "code",
   "execution_count": 14,
   "id": "f6db23fb-54b0-45f6-9671-5889b8293b41",
   "metadata": {},
   "outputs": [
    {
     "name": "stdout",
     "output_type": "stream",
     "text": [
      "Names with parentheses are already matched, thus they are not expanded and will be ignored when merging.\n",
      "---------------\n",
      "cat4\n",
      ":   cat1\n",
      ":   :   (cat4)\n",
      ":   :   cat2\n",
      ":   :   :   cat3v\n",
      "---------------\n"
     ]
    }
   ],
   "source": [
    "cat4.match_tree(detail=False)"
   ]
  },
  {
   "cell_type": "markdown",
   "id": "5a4549cc-abf0-49fb-a521-ac8705af0705",
   "metadata": {},
   "source": [
    "### Catalog merging\n",
    "Now we can merge everything possible to be merged into `cat1`:"
   ]
  },
  {
   "cell_type": "code",
   "execution_count": 15,
   "id": "d618c762-ce2c-4a00-a927-f7728b677732",
   "metadata": {},
   "outputs": [
    {
     "name": "stdout",
     "output_type": "stream",
     "text": [
      "merged: cat1, cat4, cat2, cat3v\n",
      "Name: my_merged_catalog\n"
     ]
    },
    {
     "data": {
      "text/html": [
       "<div><i>Table length=30</i>\n",
       "<table id=\"table1743925948000\" class=\"table-striped table-bordered table-condensed\">\n",
       "<thead><tr><th>survey1_id_cat1</th><th>RA_cat1</th><th>Dec_cat1</th><th>A</th><th>B</th><th>id</th><th>survey1_id_cat4</th><th>i</th><th>j</th><th>survey2_id_cat2</th><th>RA_cat2</th><th>Dec_cat2</th><th>a</th><th>b</th><th>survey2_id_cat3v</th><th>x</th><th>y</th><th>class1</th></tr></thead>\n",
       "<thead><tr><th>int32</th><th>float64</th><th>float64</th><th>int32</th><th>int32</th><th>int32</th><th>int32</th><th>int32</th><th>int32</th><th>int32</th><th>float64</th><th>float64</th><th>int32</th><th>int32</th><th>int32</th><th>int32</th><th>int32</th><th>str8</th></tr></thead>\n",
       "<tr><td>0</td><td>213.97270432253802</td><td>-64.56756226110878</td><td>6308</td><td>233</td><td>36</td><td>0</td><td>8985</td><td>5407</td><td>40</td><td>14.264846954835868</td><td>-64.56756226110878</td><td>5450</td><td>4</td><td>40</td><td>347</td><td>624</td><td>Type III</td></tr>\n",
       "<tr><td>8</td><td>187.4328313492788</td><td>-44.073367589742766</td><td>72</td><td>156</td><td>50</td><td>8</td><td>1176</td><td>7390</td><td>71</td><td>12.495522089951923</td><td>-44.073367589742766</td><td>3791</td><td>92</td><td>71</td><td>200</td><td>784</td><td>Type III</td></tr>\n",
       "<tr><td>12</td><td>274.9755359854324</td><td>-46.763915275241764</td><td>3101</td><td>474</td><td>23</td><td>12</td><td>5966</td><td>1823</td><td>11</td><td>18.331702399028824</td><td>-46.763915275241764</td><td>334</td><td>94</td><td>11</td><td>439</td><td>351</td><td>Type I</td></tr>\n",
       "<tr><td>13</td><td>244.48845400028554</td><td>-76.08437131529189</td><td>679</td><td>350</td><td>68</td><td>13</td><td>608</td><td>3050</td><td>33</td><td>16.299230266685704</td><td>-76.08437131529189</td><td>4596</td><td>86</td><td>33</td><td>413</td><td>223</td><td>Type I</td></tr>\n",
       "<tr><td>14</td><td>254.1930792486915</td><td>-56.51341037274159</td><td>1178</td><td>272</td><td>52</td><td>14</td><td>5087</td><td>134</td><td>18</td><td>16.9462052832461</td><td>-56.51341037274159</td><td>1657</td><td>51</td><td>18</td><td>521</td><td>565</td><td>Type III</td></tr>\n",
       "<tr><td>15</td><td>300.94573020305</td><td>-33.538587039094594</td><td>3725</td><td>363</td><td>42</td><td>15</td><td>563</td><td>3221</td><td>92</td><td>20.063048680203334</td><td>-33.538587039094594</td><td>4326</td><td>57</td><td>92</td><td>22</td><td>664</td><td>Type I</td></tr>\n",
       "<tr><td>18</td><td>102.5887558206159</td><td>-46.08805584014972</td><td>4319</td><td>42</td><td>38</td><td>18</td><td>4778</td><td>6342</td><td>8</td><td>6.8392503880410604</td><td>-46.08805584014972</td><td>4006</td><td>56</td><td>8</td><td>497</td><td>326</td><td>Type III</td></tr>\n",
       "<tr><td>20</td><td>206.8220972937418</td><td>-5.662787214634307</td><td>1814</td><td>329</td><td>14</td><td>20</td><td>1219</td><td>2065</td><td>87</td><td>13.788139819582787</td><td>-5.662787214634307</td><td>779</td><td>31</td><td>87</td><td>293</td><td>499</td><td>Type III</td></tr>\n",
       "<tr><td>29</td><td>333.1315228870165</td><td>-83.66608808539158</td><td>9519</td><td>243</td><td>0</td><td>29</td><td>5262</td><td>1187</td><td>32</td><td>22.20876819246777</td><td>-83.66608808539158</td><td>5141</td><td>58</td><td>32</td><td>493</td><td>284</td><td>Type I</td></tr>\n",
       "<tr><td>30</td><td>60.52133494990202</td><td>-43.53139963697669</td><td>2221</td><td>37</td><td>27</td><td>30</td><td>5544</td><td>2099</td><td>78</td><td>4.034755663326801</td><td>-43.53139963697669</td><td>2113</td><td>4</td><td>78</td><td>379</td><td>220</td><td>Type I</td></tr>\n",
       "<tr><td>...</td><td>...</td><td>...</td><td>...</td><td>...</td><td>...</td><td>...</td><td>...</td><td>...</td><td>...</td><td>...</td><td>...</td><td>...</td><td>...</td><td>...</td><td>...</td><td>...</td><td>...</td></tr>\n",
       "<tr><td>63</td><td>33.33206288146597</td><td>-68.826278121223</td><td>6305</td><td>147</td><td>29</td><td>63</td><td>2317</td><td>3226</td><td>136</td><td>2.222137525431065</td><td>-68.826278121223</td><td>5402</td><td>62</td><td>136</td><td>639</td><td>447</td><td>Type I</td></tr>\n",
       "<tr><td>66</td><td>298.2000219336728</td><td>-42.20882575258029</td><td>580</td><td>130</td><td>16</td><td>66</td><td>2376</td><td>2759</td><td>1</td><td>19.880001462244856</td><td>-42.20882575258029</td><td>2322</td><td>11</td><td>1</td><td>568</td><td>384</td><td>Type I</td></tr>\n",
       "<tr><td>70</td><td>12.127847243841234</td><td>-21.995697379658466</td><td>7290</td><td>275</td><td>62</td><td>70</td><td>6221</td><td>2690</td><td>104</td><td>0.8085231495894156</td><td>-21.995697379658466</td><td>5130</td><td>32</td><td>104</td><td>584</td><td>697</td><td>Type II</td></tr>\n",
       "<tr><td>71</td><td>65.32110009697838</td><td>-49.89753969595574</td><td>3721</td><td>354</td><td>63</td><td>71</td><td>6572</td><td>3986</td><td>146</td><td>4.354740006465225</td><td>-49.89753969595574</td><td>2552</td><td>64</td><td>146</td><td>252</td><td>95</td><td>Type I</td></tr>\n",
       "<tr><td>73</td><td>240.17445391797642</td><td>-51.05783111691183</td><td>9163</td><td>462</td><td>48</td><td>73</td><td>2769</td><td>2138</td><td>5</td><td>16.011630261198427</td><td>-51.05783111691183</td><td>2525</td><td>80</td><td>5</td><td>322</td><td>599</td><td>Type III</td></tr>\n",
       "<tr><td>79</td><td>209.79876935271417</td><td>-48.037054060818356</td><td>1146</td><td>383</td><td>58</td><td>79</td><td>8751</td><td>1819</td><td>46</td><td>13.986584623514279</td><td>-48.037054060818356</td><td>4097</td><td>43</td><td>46</td><td>123</td><td>642</td><td>Type III</td></tr>\n",
       "<tr><td>80</td><td>34.5683298268012</td><td>-1.513794601957244</td><td>295</td><td>154</td><td>69</td><td>80</td><td>6694</td><td>1468</td><td>117</td><td>2.3045553217867467</td><td>-1.513794601957244</td><td>1556</td><td>46</td><td>117</td><td>5</td><td>292</td><td>Type III</td></tr>\n",
       "<tr><td>88</td><td>262.79011830531977</td><td>-59.311299727603924</td><td>5764</td><td>278</td><td>5</td><td>88</td><td>3776</td><td>569</td><td>147</td><td>17.51934122035465</td><td>-59.311299727603924</td><td>3185</td><td>21</td><td>147</td><td>689</td><td>512</td><td>Type III</td></tr>\n",
       "<tr><td>94</td><td>38.60838741180505</td><td>-31.22680066907673</td><td>9025</td><td>244</td><td>6</td><td>94</td><td>6632</td><td>7582</td><td>17</td><td>2.5738924941203365</td><td>-31.22680066907673</td><td>2010</td><td>32</td><td>17</td><td>581</td><td>117</td><td>Type I</td></tr>\n",
       "<tr><td>98</td><td>258.90594070885226</td><td>-24.705594353445946</td><td>2612</td><td>81</td><td>64</td><td>98</td><td>6957</td><td>3550</td><td>2</td><td>17.26039604725682</td><td>-24.705594353445946</td><td>2944</td><td>16</td><td>2</td><td>226</td><td>131</td><td>Type II</td></tr>\n",
       "</table></div>"
      ],
      "text/plain": [
       "<Table length=30>\n",
       "survey1_id_cat1      RA_cat1             Dec_cat1      ...   x     y    class1 \n",
       "     int32           float64             float64       ... int32 int32   str8  \n",
       "--------------- ------------------ ------------------- ... ----- ----- --------\n",
       "              0 213.97270432253802  -64.56756226110878 ...   347   624 Type III\n",
       "              8  187.4328313492788 -44.073367589742766 ...   200   784 Type III\n",
       "             12  274.9755359854324 -46.763915275241764 ...   439   351   Type I\n",
       "             13 244.48845400028554  -76.08437131529189 ...   413   223   Type I\n",
       "             14  254.1930792486915  -56.51341037274159 ...   521   565 Type III\n",
       "             15    300.94573020305 -33.538587039094594 ...    22   664   Type I\n",
       "             18  102.5887558206159  -46.08805584014972 ...   497   326 Type III\n",
       "             20  206.8220972937418  -5.662787214634307 ...   293   499 Type III\n",
       "             29  333.1315228870165  -83.66608808539158 ...   493   284   Type I\n",
       "             30  60.52133494990202  -43.53139963697669 ...   379   220   Type I\n",
       "            ...                ...                 ... ...   ...   ...      ...\n",
       "             63  33.33206288146597    -68.826278121223 ...   639   447   Type I\n",
       "             66  298.2000219336728  -42.20882575258029 ...   568   384   Type I\n",
       "             70 12.127847243841234 -21.995697379658466 ...   584   697  Type II\n",
       "             71  65.32110009697838  -49.89753969595574 ...   252    95   Type I\n",
       "             73 240.17445391797642  -51.05783111691183 ...   322   599 Type III\n",
       "             79 209.79876935271417 -48.037054060818356 ...   123   642 Type III\n",
       "             80   34.5683298268012  -1.513794601957244 ...     5   292 Type III\n",
       "             88 262.79011830531977 -59.311299727603924 ...   689   512 Type III\n",
       "             94  38.60838741180505  -31.22680066907673 ...   581   117   Type I\n",
       "             98 258.90594070885226 -24.705594353445946 ...   226   131  Type II"
      ]
     },
     "execution_count": 15,
     "metadata": {},
     "output_type": "execute_result"
    }
   ],
   "source": [
    "merged_cat = cat1.merge(outname='my_merged_catalog')\n",
    "print(\"Name:\", merged_cat.name)\n",
    "merged_cat.t"
   ]
  },
  {
   "cell_type": "markdown",
   "id": "79e2ba87-435a-407a-a160-dbe58277c57f",
   "metadata": {},
   "source": [
    "Note that columns with the same names are renamed by the `name` of the `Data` objects. You may also check that the match is indeed correct.\n",
    "\n",
    "### Merging options\n",
    "\n",
    "Maybe you want to keep records that cannot be matched to `cat3v` and only want to merge subsets of columns from the catalogs:"
   ]
  },
  {
   "cell_type": "code",
   "execution_count": 16,
   "id": "a01eae76-bfba-432b-81d4-b27ce403d36f",
   "metadata": {},
   "outputs": [
    {
     "name": "stdout",
     "output_type": "stream",
     "text": [
      "entries with no match for cat3v is kept.\n",
      "merged: cat1, cat4, cat2, cat3v\n",
      "Name: match_cat1_cat4_cat2_cat3v\n"
     ]
    },
    {
     "data": {
      "text/html": [
       "<div><i>Table length=44</i>\n",
       "<table id=\"table1743925946080\" class=\"table-striped table-bordered table-condensed\">\n",
       "<thead><tr><th>survey1_id</th><th>RA</th><th>Dec</th><th>i</th><th>j</th><th>survey2_id</th><th>class1</th></tr></thead>\n",
       "<thead><tr><th>int32</th><th>float64</th><th>float64</th><th>int32</th><th>int32</th><th>int32</th><th>str8</th></tr></thead>\n",
       "<tr><td>0</td><td>213.97270432253802</td><td>-64.56756226110878</td><td>8985</td><td>5407</td><td>40</td><td>Type III</td></tr>\n",
       "<tr><td>2</td><td>269.99728512493795</td><td>-58.493484032138056</td><td>1617</td><td>6439</td><td>73</td><td>--</td></tr>\n",
       "<tr><td>4</td><td>90.38158728957859</td><td>-60.65028754242699</td><td>2177</td><td>6878</td><td>141</td><td>--</td></tr>\n",
       "<tr><td>5</td><td>94.5738843176371</td><td>-0.300580707865322</td><td>8650</td><td>1254</td><td>89</td><td>--</td></tr>\n",
       "<tr><td>6</td><td>348.60867552294656</td><td>-83.26014129433523</td><td>5229</td><td>4704</td><td>68</td><td>--</td></tr>\n",
       "<tr><td>8</td><td>187.4328313492788</td><td>-44.073367589742766</td><td>1176</td><td>7390</td><td>71</td><td>Type III</td></tr>\n",
       "<tr><td>11</td><td>170.11833223185067</td><td>-37.359813181905174</td><td>2698</td><td>7174</td><td>139</td><td>--</td></tr>\n",
       "<tr><td>12</td><td>274.9755359854324</td><td>-46.763915275241764</td><td>5966</td><td>1823</td><td>11</td><td>Type I</td></tr>\n",
       "<tr><td>13</td><td>244.48845400028554</td><td>-76.08437131529189</td><td>608</td><td>3050</td><td>33</td><td>Type I</td></tr>\n",
       "<tr><td>14</td><td>254.1930792486915</td><td>-56.51341037274159</td><td>5087</td><td>134</td><td>18</td><td>Type III</td></tr>\n",
       "<tr><td>...</td><td>...</td><td>...</td><td>...</td><td>...</td><td>...</td><td>...</td></tr>\n",
       "<tr><td>70</td><td>12.127847243841234</td><td>-21.995697379658466</td><td>6221</td><td>2690</td><td>104</td><td>Type II</td></tr>\n",
       "<tr><td>71</td><td>65.32110009697838</td><td>-49.89753969595574</td><td>6572</td><td>3986</td><td>146</td><td>Type I</td></tr>\n",
       "<tr><td>73</td><td>240.17445391797642</td><td>-51.05783111691183</td><td>2769</td><td>2138</td><td>5</td><td>Type III</td></tr>\n",
       "<tr><td>76</td><td>310.5303079704237</td><td>-14.987964464761347</td><td>1235</td><td>7851</td><td>119</td><td>--</td></tr>\n",
       "<tr><td>79</td><td>209.79876935271417</td><td>-48.037054060818356</td><td>8751</td><td>1819</td><td>46</td><td>Type III</td></tr>\n",
       "<tr><td>80</td><td>34.5683298268012</td><td>-1.513794601957244</td><td>6694</td><td>1468</td><td>117</td><td>Type III</td></tr>\n",
       "<tr><td>88</td><td>262.79011830531977</td><td>-59.311299727603924</td><td>3776</td><td>569</td><td>147</td><td>Type III</td></tr>\n",
       "<tr><td>89</td><td>295.75357580908536</td><td>-14.735208676915676</td><td>101</td><td>544</td><td>66</td><td>--</td></tr>\n",
       "<tr><td>94</td><td>38.60838741180505</td><td>-31.22680066907673</td><td>6632</td><td>7582</td><td>17</td><td>Type I</td></tr>\n",
       "<tr><td>98</td><td>258.90594070885226</td><td>-24.705594353445946</td><td>6957</td><td>3550</td><td>2</td><td>Type II</td></tr>\n",
       "</table></div>"
      ],
      "text/plain": [
       "<Table length=44>\n",
       "survey1_id         RA                 Dec         ...   j   survey2_id  class1 \n",
       "  int32         float64             float64       ... int32   int32      str8  \n",
       "---------- ------------------ ------------------- ... ----- ---------- --------\n",
       "         0 213.97270432253802  -64.56756226110878 ...  5407         40 Type III\n",
       "         2 269.99728512493795 -58.493484032138056 ...  6439         73       --\n",
       "         4  90.38158728957859  -60.65028754242699 ...  6878        141       --\n",
       "         5   94.5738843176371  -0.300580707865322 ...  1254         89       --\n",
       "         6 348.60867552294656  -83.26014129433523 ...  4704         68       --\n",
       "         8  187.4328313492788 -44.073367589742766 ...  7390         71 Type III\n",
       "        11 170.11833223185067 -37.359813181905174 ...  7174        139       --\n",
       "        12  274.9755359854324 -46.763915275241764 ...  1823         11   Type I\n",
       "        13 244.48845400028554  -76.08437131529189 ...  3050         33   Type I\n",
       "        14  254.1930792486915  -56.51341037274159 ...   134         18 Type III\n",
       "       ...                ...                 ... ...   ...        ...      ...\n",
       "        70 12.127847243841234 -21.995697379658466 ...  2690        104  Type II\n",
       "        71  65.32110009697838  -49.89753969595574 ...  3986        146   Type I\n",
       "        73 240.17445391797642  -51.05783111691183 ...  2138          5 Type III\n",
       "        76  310.5303079704237 -14.987964464761347 ...  7851        119       --\n",
       "        79 209.79876935271417 -48.037054060818356 ...  1819         46 Type III\n",
       "        80   34.5683298268012  -1.513794601957244 ...  1468        117 Type III\n",
       "        88 262.79011830531977 -59.311299727603924 ...   569        147 Type III\n",
       "        89 295.75357580908536 -14.735208676915676 ...   544         66       --\n",
       "        94  38.60838741180505  -31.22680066907673 ...  7582         17   Type I\n",
       "        98 258.90594070885226 -24.705594353445946 ...  3550          2  Type II"
      ]
     },
     "execution_count": 16,
     "metadata": {},
     "output_type": "execute_result"
    }
   ],
   "source": [
    "merge_columns = { # specify columns to be merged\n",
    "    'cat1': ['survey1_id', 'RA', 'Dec'],\n",
    "    'cat4': ['i', 'j'],\n",
    "    'cat2': ['survey2_id'],\n",
    "    'cat3v': ['class1'],\n",
    "    }\n",
    "\n",
    "keep_unmatched = ['cat3v'] # keep records that cannot be matched to cat3v\n",
    "\n",
    "another_merged_cat = cat1.merge(keep_unmatched=keep_unmatched, \n",
    "                                merge_columns=merge_columns) # use default outname\n",
    "print(\"Name:\", another_merged_cat.name)\n",
    "another_merged_cat.t"
   ]
  },
  {
   "cell_type": "markdown",
   "id": "148a746d-d425-4383-8354-0cb2ce3481c1",
   "metadata": {},
   "source": [
    "You may also set the depth for `match_tree` and `merge` methods. Setting depth to 0 means only keeping the base catalog itself."
   ]
  },
  {
   "cell_type": "code",
   "execution_count": 17,
   "id": "ecfae4cb-e9bb-483f-ae69-5ffd5c1122ff",
   "metadata": {},
   "outputs": [
    {
     "name": "stdout",
     "output_type": "stream",
     "text": [
      "Names with parentheses are already matched, thus they are not expanded and will be ignored when merging.\n",
      "---------------\n",
      "cat4 [base]\n",
      ":   cat1 [ExactMatcher('survey1_id', 'survey1_id')]\n",
      ":   :   (cat4) [ExactMatcher('survey1_id', 'survey1_id')]\n",
      ":   :   cat2 [SkyMatcher with thres=1]\n",
      "---------------\n"
     ]
    }
   ],
   "source": [
    "cat4.match_tree(depth=2)"
   ]
  },
  {
   "cell_type": "code",
   "execution_count": 18,
   "id": "20262ee8-7686-4cf3-9384-5682ad5d2e5a",
   "metadata": {},
   "outputs": [
    {
     "name": "stdout",
     "output_type": "stream",
     "text": [
      "Names with parentheses are already matched, thus they are not expanded and will be ignored when merging.\n",
      "---------------\n",
      "cat4 [base]\n",
      "---------------\n"
     ]
    }
   ],
   "source": [
    "cat4.match_tree(depth=0)"
   ]
  },
  {
   "cell_type": "code",
   "execution_count": 19,
   "id": "44bfa2c8-b6b9-4483-86eb-c4a2844bf63a",
   "metadata": {},
   "outputs": [
    {
     "name": "stdout",
     "output_type": "stream",
     "text": [
      "merged: cat4, cat1\n"
     ]
    },
    {
     "data": {
      "text/html": [
       "<div><i>Table length=70</i>\n",
       "<table id=\"table1743925947280\" class=\"table-striped table-bordered table-condensed\">\n",
       "<thead><tr><th>id</th><th>survey1_id_cat4</th><th>i</th><th>j</th><th>survey1_id_cat1</th><th>RA</th><th>Dec</th><th>A</th><th>B</th></tr></thead>\n",
       "<thead><tr><th>int32</th><th>int32</th><th>int32</th><th>int32</th><th>int32</th><th>float64</th><th>float64</th><th>int32</th><th>int32</th></tr></thead>\n",
       "<tr><td>0</td><td>29</td><td>5262</td><td>1187</td><td>29</td><td>333.1315228870165</td><td>-83.66608808539158</td><td>9519</td><td>243</td></tr>\n",
       "<tr><td>1</td><td>20</td><td>7551</td><td>7445</td><td>20</td><td>206.8220972937418</td><td>-5.662787214634307</td><td>1814</td><td>329</td></tr>\n",
       "<tr><td>2</td><td>30</td><td>1402</td><td>7410</td><td>30</td><td>60.52133494990202</td><td>-43.53139963697669</td><td>2221</td><td>37</td></tr>\n",
       "<tr><td>3</td><td>50</td><td>8325</td><td>2188</td><td>50</td><td>49.66381683960189</td><td>-38.44786504223306</td><td>8468</td><td>36</td></tr>\n",
       "<tr><td>4</td><td>57</td><td>7500</td><td>7129</td><td>57</td><td>8.044537199625843</td><td>-67.35697851611482</td><td>825</td><td>207</td></tr>\n",
       "<tr><td>5</td><td>88</td><td>3776</td><td>569</td><td>88</td><td>262.79011830531977</td><td>-59.311299727603924</td><td>5764</td><td>278</td></tr>\n",
       "<tr><td>6</td><td>94</td><td>6632</td><td>7582</td><td>94</td><td>38.60838741180505</td><td>-31.22680066907673</td><td>9025</td><td>244</td></tr>\n",
       "<tr><td>7</td><td>62</td><td>2178</td><td>1883</td><td>62</td><td>8.674767223013312</td><td>-70.39892406293181</td><td>9249</td><td>77</td></tr>\n",
       "<tr><td>8</td><td>36</td><td>6705</td><td>7392</td><td>36</td><td>265.00405198543075</td><td>-29.62284703390563</td><td>8529</td><td>23</td></tr>\n",
       "<tr><td>9</td><td>74</td><td>8410</td><td>6314</td><td>74</td><td>172.10969703816716</td><td>-78.65452871433797</td><td>4294</td><td>463</td></tr>\n",
       "<tr><td>...</td><td>...</td><td>...</td><td>...</td><td>...</td><td>...</td><td>...</td><td>...</td><td>...</td></tr>\n",
       "<tr><td>60</td><td>37</td><td>6940</td><td>260</td><td>37</td><td>136.8728321817881</td><td>-61.1672461461972</td><td>1603</td><td>309</td></tr>\n",
       "<tr><td>61</td><td>28</td><td>5145</td><td>2481</td><td>28</td><td>293.77346035427695</td><td>-24.85029223706198</td><td>4143</td><td>180</td></tr>\n",
       "<tr><td>62</td><td>70</td><td>6221</td><td>2690</td><td>70</td><td>12.127847243841234</td><td>-21.995697379658466</td><td>7290</td><td>275</td></tr>\n",
       "<tr><td>63</td><td>71</td><td>6572</td><td>3986</td><td>71</td><td>65.32110009697838</td><td>-49.89753969595574</td><td>3721</td><td>354</td></tr>\n",
       "<tr><td>64</td><td>98</td><td>6957</td><td>3550</td><td>98</td><td>258.90594070885226</td><td>-24.705594353445946</td><td>2612</td><td>81</td></tr>\n",
       "<tr><td>65</td><td>25</td><td>1043</td><td>836</td><td>25</td><td>350.90665005727044</td><td>-84.79402964860535</td><td>2350</td><td>97</td></tr>\n",
       "<tr><td>66</td><td>30</td><td>3833</td><td>2672</td><td>30</td><td>60.52133494990202</td><td>-43.53139963697669</td><td>2221</td><td>37</td></tr>\n",
       "<tr><td>67</td><td>58</td><td>2128</td><td>2163</td><td>58</td><td>318.77479454315346</td><td>-6.658830809832338</td><td>6136</td><td>349</td></tr>\n",
       "<tr><td>68</td><td>13</td><td>608</td><td>3050</td><td>13</td><td>244.48845400028554</td><td>-76.08437131529189</td><td>679</td><td>350</td></tr>\n",
       "<tr><td>69</td><td>80</td><td>6694</td><td>1468</td><td>80</td><td>34.5683298268012</td><td>-1.513794601957244</td><td>295</td><td>154</td></tr>\n",
       "</table></div>"
      ],
      "text/plain": [
       "<Table length=70>\n",
       "  id  survey1_id_cat4   i     j   ...         Dec           A     B  \n",
       "int32      int32      int32 int32 ...       float64       int32 int32\n",
       "----- --------------- ----- ----- ... ------------------- ----- -----\n",
       "    0              29  5262  1187 ...  -83.66608808539158  9519   243\n",
       "    1              20  7551  7445 ...  -5.662787214634307  1814   329\n",
       "    2              30  1402  7410 ...  -43.53139963697669  2221    37\n",
       "    3              50  8325  2188 ...  -38.44786504223306  8468    36\n",
       "    4              57  7500  7129 ...  -67.35697851611482   825   207\n",
       "    5              88  3776   569 ... -59.311299727603924  5764   278\n",
       "    6              94  6632  7582 ...  -31.22680066907673  9025   244\n",
       "    7              62  2178  1883 ...  -70.39892406293181  9249    77\n",
       "    8              36  6705  7392 ...  -29.62284703390563  8529    23\n",
       "    9              74  8410  6314 ...  -78.65452871433797  4294   463\n",
       "  ...             ...   ...   ... ...                 ...   ...   ...\n",
       "   60              37  6940   260 ...   -61.1672461461972  1603   309\n",
       "   61              28  5145  2481 ...  -24.85029223706198  4143   180\n",
       "   62              70  6221  2690 ... -21.995697379658466  7290   275\n",
       "   63              71  6572  3986 ...  -49.89753969595574  3721   354\n",
       "   64              98  6957  3550 ... -24.705594353445946  2612    81\n",
       "   65              25  1043   836 ...  -84.79402964860535  2350    97\n",
       "   66              30  3833  2672 ...  -43.53139963697669  2221    37\n",
       "   67              58  2128  2163 ...  -6.658830809832338  6136   349\n",
       "   68              13   608  3050 ...  -76.08437131529189   679   350\n",
       "   69              80  6694  1468 ...  -1.513794601957244   295   154"
      ]
     },
     "execution_count": 19,
     "metadata": {},
     "output_type": "execute_result"
    }
   ],
   "source": [
    "cat4.merge(depth=1).t"
   ]
  },
  {
   "cell_type": "markdown",
   "id": "9ad6dcf6-f27e-4049-9310-9603a824a2ed",
   "metadata": {},
   "source": [
    "## Things to be noted\n",
    "\n",
    "This package does not support matching multiple records to a single record in the base data. For example, `table2` below has two records with the same `survey_id`:"
   ]
  },
  {
   "cell_type": "code",
   "execution_count": 20,
   "id": "5b27e4eb-dc48-47eb-b76d-c5aeae597eaa",
   "metadata": {},
   "outputs": [
    {
     "data": {
      "text/html": [
       "<div><i>Table length=3</i>\n",
       "<table id=\"table1743925949824\" class=\"table-striped table-bordered table-condensed\">\n",
       "<thead><tr><th>survey_id</th><th>value</th></tr></thead>\n",
       "<thead><tr><th>int32</th><th>str1</th></tr></thead>\n",
       "<tr><td>0</td><td>A</td></tr>\n",
       "<tr><td>1</td><td>B</td></tr>\n",
       "<tr><td>2</td><td>C</td></tr>\n",
       "</table></div>"
      ],
      "text/plain": [
       "<Table length=3>\n",
       "survey_id value\n",
       "  int32    str1\n",
       "--------- -----\n",
       "        0     A\n",
       "        1     B\n",
       "        2     C"
      ]
     },
     "execution_count": 20,
     "metadata": {},
     "output_type": "execute_result"
    }
   ],
   "source": [
    "table1 = Data({'survey_id': [0, 1, 2], 'value': ['A', 'B', 'C']}, name='t1')\n",
    "table1.t"
   ]
  },
  {
   "cell_type": "code",
   "execution_count": 21,
   "id": "46710465-20bb-4c12-80a7-8a4e5ad0bb2c",
   "metadata": {},
   "outputs": [
    {
     "data": {
      "text/html": [
       "<div><i>Table length=3</i>\n",
       "<table id=\"table1743925947184\" class=\"table-striped table-bordered table-condensed\">\n",
       "<thead><tr><th>table2_id</th><th>survey_id</th></tr></thead>\n",
       "<thead><tr><th>int32</th><th>int32</th></tr></thead>\n",
       "<tr><td>0</td><td>0</td></tr>\n",
       "<tr><td>1</td><td>1</td></tr>\n",
       "<tr><td>2</td><td>0</td></tr>\n",
       "</table></div>"
      ],
      "text/plain": [
       "<Table length=3>\n",
       "table2_id survey_id\n",
       "  int32     int32  \n",
       "--------- ---------\n",
       "        0         0\n",
       "        1         1\n",
       "        2         0"
      ]
     },
     "execution_count": 21,
     "metadata": {},
     "output_type": "execute_result"
    }
   ],
   "source": [
    "table2 = Data({'table2_id': [0, 1, 2], 'survey_id': [0, 1, 0]}, name='t2')\n",
    "table2.t"
   ]
  },
  {
   "cell_type": "markdown",
   "id": "421b9bca-243c-4e35-b6f5-e234f06b3bec",
   "metadata": {},
   "source": [
    "If you match `table2` to `table1` by `survey_id` using `ExactMatcher`, the first exact match in `table2` will be used:"
   ]
  },
  {
   "cell_type": "code",
   "execution_count": 22,
   "id": "90b5fe13-386f-467f-810d-cec49be1874d",
   "metadata": {},
   "outputs": [
    {
     "name": "stdout",
     "output_type": "stream",
     "text": [
      "\"t2\" matched to \"t1\": 2/3 matched.\n",
      "merged: t1, t2\n"
     ]
    },
    {
     "data": {
      "text/html": [
       "<div><i>Table length=2</i>\n",
       "<table id=\"table1743926657904\" class=\"table-striped table-bordered table-condensed\">\n",
       "<thead><tr><th>survey_id_t1</th><th>value</th><th>table2_id</th><th>survey_id_t2</th></tr></thead>\n",
       "<thead><tr><th>int32</th><th>str1</th><th>int32</th><th>int32</th></tr></thead>\n",
       "<tr><td>0</td><td>A</td><td>0</td><td>0</td></tr>\n",
       "<tr><td>1</td><td>B</td><td>1</td><td>1</td></tr>\n",
       "</table></div>"
      ],
      "text/plain": [
       "<Table length=2>\n",
       "survey_id_t1 value table2_id survey_id_t2\n",
       "   int32      str1   int32      int32    \n",
       "------------ ----- --------- ------------\n",
       "           0     A         0            0\n",
       "           1     B         1            1"
      ]
     },
     "execution_count": 22,
     "metadata": {},
     "output_type": "execute_result"
    }
   ],
   "source": [
    "table1.match(table2, ExactMatcher('survey_id', 'survey_id')).merge().t"
   ]
  },
  {
   "cell_type": "markdown",
   "id": "f97e2370-aef2-4240-910e-d5564d3ce1e9",
   "metadata": {},
   "source": [
    "If you wish to keep the records with the same `sruvey_id` in `table2`, you may match `table1` to `table2` instead of matching `table2` to `table1`:"
   ]
  },
  {
   "cell_type": "code",
   "execution_count": 23,
   "id": "5610bde8-11f9-42e2-bcd6-b63185b6ab0f",
   "metadata": {},
   "outputs": [
    {
     "name": "stdout",
     "output_type": "stream",
     "text": [
      "\"t1\" matched to \"t2\": 3/3 matched.\n",
      "merged: t2, t1\n"
     ]
    },
    {
     "data": {
      "text/html": [
       "<div><i>Table length=3</i>\n",
       "<table id=\"table1743926657712\" class=\"table-striped table-bordered table-condensed\">\n",
       "<thead><tr><th>table2_id</th><th>survey_id_t2</th><th>survey_id_t1</th><th>value</th></tr></thead>\n",
       "<thead><tr><th>int32</th><th>int32</th><th>int32</th><th>str1</th></tr></thead>\n",
       "<tr><td>0</td><td>0</td><td>0</td><td>A</td></tr>\n",
       "<tr><td>1</td><td>1</td><td>1</td><td>B</td></tr>\n",
       "<tr><td>2</td><td>0</td><td>0</td><td>A</td></tr>\n",
       "</table></div>"
      ],
      "text/plain": [
       "<Table length=3>\n",
       "table2_id survey_id_t2 survey_id_t1 value\n",
       "  int32      int32        int32      str1\n",
       "--------- ------------ ------------ -----\n",
       "        0            0            0     A\n",
       "        1            1            1     B\n",
       "        2            0            0     A"
      ]
     },
     "execution_count": 23,
     "metadata": {},
     "output_type": "execute_result"
    }
   ],
   "source": [
    "table2.match(table1, ExactMatcher('survey_id', 'survey_id')).merge().t"
   ]
  },
  {
   "cell_type": "markdown",
   "id": "3ea97e35-31d5-49ca-beb2-d224561cc654",
   "metadata": {},
   "source": [
    "Or you may merge these records (with the same `sruvey_id`) before matching and merging the catalogs."
   ]
  }
 ],
 "metadata": {
  "kernelspec": {
   "display_name": "Python 3 (ipykernel)",
   "language": "python",
   "name": "python3"
  },
  "language_info": {
   "codemirror_mode": {
    "name": "ipython",
    "version": 3
   },
   "file_extension": ".py",
   "mimetype": "text/x-python",
   "name": "python",
   "nbconvert_exporter": "python",
   "pygments_lexer": "ipython3",
   "version": "3.10.5"
  }
 },
 "nbformat": 4,
 "nbformat_minor": 5
}
