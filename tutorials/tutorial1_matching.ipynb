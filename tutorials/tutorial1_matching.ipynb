{
 "cells": [
  {
   "cell_type": "markdown",
   "id": "5ea7c1b5-7ac1-4cc7-b706-fc9cdb6634ee",
   "metadata": {},
   "source": [
    "This notebook will demostrate how to match catalogs with this package."
   ]
  },
  {
   "cell_type": "code",
   "execution_count": 1,
   "id": "1a50aae2-b7ea-4f3a-a9b0-628816e386e1",
   "metadata": {},
   "outputs": [],
   "source": [
    "import warnings\n",
    "warnings.filterwarnings('ignore')"
   ]
  },
  {
   "cell_type": "markdown",
   "id": "4661c2d0-9a4f-408a-8d9b-675474eb49c1",
   "metadata": {},
   "source": [
    "## Data I/O\n",
    "<!-- To initialize an `astrotable.table.Data` object, input path to the data, an `astropy.table.Table` object, or anything that can be converted to an `astropy.table.Table` object.  -->\n",
    "In this package, data are handled by the `astrotable.table.Data` class. Intuitively (though not accurately), a 'class' is a type of objects that can store information and perform certain operations. As we will see later, we can initialize an `astrotable.table.Data` object, which can store a data table (in the memory) and allows you to do operations including matching, merging and more.\n",
    "\n",
    "To get started, import the `astrotable.table.Data` class:"
   ]
  },
  {
   "cell_type": "code",
   "execution_count": 2,
   "id": "27c975de-2635-44c3-ac15-cc1cdf6b9815",
   "metadata": {},
   "outputs": [],
   "source": [
    "from astrotable.table import Data"
   ]
  },
  {
   "cell_type": "markdown",
   "id": "b65ddd1c-21fb-45ec-a2dc-b371d70422a6",
   "metadata": {},
   "source": [
    "### Reading and writing `Table`-like data\n",
    "\n",
    "The data table of an `astrotable.table.Data` object is stored in an `astropy.table.Table` object, so you can load anything that can be converted to an `astropy.table.Table`. For introduction to tables and documentations on the `astropy.table.Table`, see [Astropy's documentation on Data Tables](https://docs.astropy.org/en/stable/table/index.html), especially the supported formats of Astropy's [Built-In Table Readers/Writers](https://docs.astropy.org/en/stable/io/unified.html#built-in-readers-writers).\n",
    "\n",
    "The most straightforward way to load a table is to initialize a `Data` object with the path to the data file (note that the files in `./samples/` directory are randomly generated datasets):"
   ]
  },
  {
   "cell_type": "code",
   "execution_count": 3,
   "id": "87ca2a06-656e-4115-8405-8613c1fd3b26",
   "metadata": {},
   "outputs": [],
   "source": [
    "cat1 = Data('samples/catalog1.csv', name='cat1') # cat1 is an astropy.table.Table object"
   ]
  },
  {
   "cell_type": "markdown",
   "id": "93dd5a83-230b-4fa3-af9c-efa19ab9e136",
   "metadata": {},
   "source": [
    "It is highly recommended to input a `name` keyword argument, as this name will be used to distinguish different datasets. If `Data` is initialized with a path to file and no `name` is given, it will be automatically set to the file name.\n",
    "\n",
    "The `astropy.table.Table` object used to store the table can be accessed with `data.t`. Thus, you can do anything as you can do with an `astropy.table.Table` object. "
   ]
  },
  {
   "cell_type": "code",
   "execution_count": 4,
   "id": "73e03731-37a2-436b-a821-2a0ae4ff9921",
   "metadata": {},
   "outputs": [
    {
     "name": "stdout",
     "output_type": "stream",
     "text": [
      "Name: cat1\n"
     ]
    },
    {
     "data": {
      "text/html": [
       "<div><i>Table length=100</i>\n",
       "<table id=\"table2968917705056\" class=\"table-striped table-bordered table-condensed\">\n",
       "<thead><tr><th>survey1_id</th><th>RA</th><th>Dec</th><th>A</th><th>B</th></tr></thead>\n",
       "<thead><tr><th>int32</th><th>float64</th><th>float64</th><th>int32</th><th>int32</th></tr></thead>\n",
       "<tr><td>0</td><td>134.8344427850505</td><td>-87.17137328819392</td><td>1648</td><td>312</td></tr>\n",
       "<tr><td>1</td><td>342.2571503075698</td><td>-32.72306298625976</td><td>5539</td><td>35</td></tr>\n",
       "<tr><td>2</td><td>263.51781905210584</td><td>-61.7079617031306</td><td>9637</td><td>172</td></tr>\n",
       "<tr><td>3</td><td>215.5170543109332</td><td>-44.22863779517675</td><td>4199</td><td>19</td></tr>\n",
       "<tr><td>4</td><td>56.16671055927715</td><td>-8.319017346651634</td><td>8445</td><td>320</td></tr>\n",
       "<tr><td>5</td><td>56.158027321032954</td><td>-67.56369937660125</td><td>2557</td><td>263</td></tr>\n",
       "<tr><td>6</td><td>20.910100380551807</td><td>-53.06553692679332</td><td>5592</td><td>493</td></tr>\n",
       "<tr><td>7</td><td>311.82341247897665</td><td>-22.000397531125614</td><td>98</td><td>399</td></tr>\n",
       "<tr><td>8</td><td>216.40140422755516</td><td>-69.40816510575398</td><td>2200</td><td>141</td></tr>\n",
       "<tr><td>9</td><td>254.90612800657638</td><td>-83.07180811540863</td><td>2961</td><td>459</td></tr>\n",
       "<tr><td>...</td><td>...</td><td>...</td><td>...</td><td>...</td></tr>\n",
       "<tr><td>90</td><td>43.053928537788615</td><td>-81.62075089746907</td><td>5596</td><td>47</td></tr>\n",
       "<tr><td>91</td><td>256.7681234002782</td><td>-9.250581784200591</td><td>5801</td><td>88</td></tr>\n",
       "<tr><td>92</td><td>273.88261750208306</td><td>-8.962374855300254</td><td>2806</td><td>487</td></tr>\n",
       "<tr><td>93</td><td>202.05979112501865</td><td>-33.020868845405886</td><td>537</td><td>236</td></tr>\n",
       "<tr><td>94</td><td>277.54818478364194</td><td>-59.48731880561694</td><td>5986</td><td>372</td></tr>\n",
       "<tr><td>95</td><td>177.76641469118067</td><td>-58.571138284860524</td><td>1841</td><td>384</td></tr>\n",
       "<tr><td>96</td><td>188.18381857751785</td><td>-24.66398890167845</td><td>8716</td><td>271</td></tr>\n",
       "<tr><td>97</td><td>153.91476660907787</td><td>-9.260076604268065</td><td>6971</td><td>188</td></tr>\n",
       "<tr><td>98</td><td>9.150885627874267</td><td>-10.162221816139436</td><td>5625</td><td>486</td></tr>\n",
       "<tr><td>99</td><td>38.8409137175896</td><td>-19.811200872813856</td><td>2950</td><td>191</td></tr>\n",
       "</table></div>"
      ],
      "text/plain": [
       "<Table length=100>\n",
       "survey1_id         RA                 Dec           A     B  \n",
       "  int32         float64             float64       int32 int32\n",
       "---------- ------------------ ------------------- ----- -----\n",
       "         0  134.8344427850505  -87.17137328819392  1648   312\n",
       "         1  342.2571503075698  -32.72306298625976  5539    35\n",
       "         2 263.51781905210584   -61.7079617031306  9637   172\n",
       "         3  215.5170543109332  -44.22863779517675  4199    19\n",
       "         4  56.16671055927715  -8.319017346651634  8445   320\n",
       "         5 56.158027321032954  -67.56369937660125  2557   263\n",
       "         6 20.910100380551807  -53.06553692679332  5592   493\n",
       "         7 311.82341247897665 -22.000397531125614    98   399\n",
       "         8 216.40140422755516  -69.40816510575398  2200   141\n",
       "         9 254.90612800657638  -83.07180811540863  2961   459\n",
       "       ...                ...                 ...   ...   ...\n",
       "        90 43.053928537788615  -81.62075089746907  5596    47\n",
       "        91  256.7681234002782  -9.250581784200591  5801    88\n",
       "        92 273.88261750208306  -8.962374855300254  2806   487\n",
       "        93 202.05979112501865 -33.020868845405886   537   236\n",
       "        94 277.54818478364194  -59.48731880561694  5986   372\n",
       "        95 177.76641469118067 -58.571138284860524  1841   384\n",
       "        96 188.18381857751785  -24.66398890167845  8716   271\n",
       "        97 153.91476660907787  -9.260076604268065  6971   188\n",
       "        98  9.150885627874267 -10.162221816139436  5625   486\n",
       "        99   38.8409137175896 -19.811200872813856  2950   191"
      ]
     },
     "execution_count": 4,
     "metadata": {},
     "output_type": "execute_result"
    }
   ],
   "source": [
    "print(\"Name:\", cat1.name)\n",
    "cat1.t # an astropy.table.Table"
   ]
  },
  {
   "cell_type": "markdown",
   "id": "2f591c7c-34ed-4fa4-8c9f-208e292915e3",
   "metadata": {},
   "source": [
    "You may also add keyword arguments to be passed to `astropy.table.Table.read()`:"
   ]
  },
  {
   "cell_type": "code",
   "execution_count": 5,
   "id": "74508206-0270-4983-a69e-e51c72bd4efb",
   "metadata": {},
   "outputs": [],
   "source": [
    "cat3id = Data('samples/catalog3_id.txt', name='cat3id',\n",
    "              names=['cat3ID', 'survey2_id'], format='ascii') # 'ascii' is one of the supported formats of Astropy's Built-In Table Readers/Writers.\n",
    "cat3v = Data('samples/catalog3_measurement.txt', name='cat3v',\n",
    "             names=['survey2_id', 'x', 'y', 'class1'], format='ascii')"
   ]
  },
  {
   "cell_type": "markdown",
   "id": "f768140d-ab58-4865-9e0c-8e8923c465a0",
   "metadata": {},
   "source": [
    "A `Data` object can also be created with an `astropy.table.Table` object, or anything that can be converted to an `astropy.table.Table` object. "
   ]
  },
  {
   "cell_type": "code",
   "execution_count": 6,
   "id": "d7d9afa8-7b48-499b-b4bd-0edaabbc4e59",
   "metadata": {},
   "outputs": [],
   "source": [
    "from astropy.table import Table\n",
    "cat2_table = Table.read('samples/catalog2.fits')\n",
    "cat2 = Data(cat2_table, name='cat2')\n",
    "cat4_dict = dict(Table.read('samples/catalog4.hdf5'))\n",
    "# print(cat4_dict)\n",
    "cat4 = Data(cat4_dict, name='cat4')"
   ]
  },
  {
   "cell_type": "markdown",
   "id": "fbbba0ef-1787-469e-8ecb-dea1cd78dd9e",
   "metadata": {},
   "source": [
    "You can save the table to files with Astropy's table writers (see Astropy's documentation on [Reading and Writing Table Objects](https://docs.astropy.org/en/stable/table/io.html)):"
   ]
  },
  {
   "cell_type": "code",
   "execution_count": 7,
   "id": "7cc3e740-daf6-4b64-93b6-4b6fd37cfa05",
   "metadata": {},
   "outputs": [],
   "source": [
    "# cat1.t.write(filename, format=supported_format)"
   ]
  },
  {
   "cell_type": "markdown",
   "id": "a03adc33-3423-4f54-afdb-6bcb37002cd3",
   "metadata": {},
   "source": [
    "### Reading and writing an `astrotable.table.Data` object\n",
    "Though you can write the table with the `astropy`'s writers (as shown above), it is more recommended to use the `save()` method of the `astrotable.table.Data` object itself (note that it is different from `cat1.t.write()`). This method not only saves the data table, but also saves other key properties of the data (e.g. the user-defined row subsets) of an `astrotable.table.Data` object. "
   ]
  },
  {
   "cell_type": "code",
   "execution_count": 8,
   "id": "9b525c8f-aeca-4f6e-8337-a25806e7eda3",
   "metadata": {},
   "outputs": [],
   "source": [
    "cat1.save('samples/output/cat1', overwrite=True) # set overwrite=True to overwrite an existing file"
   ]
  },
  {
   "cell_type": "markdown",
   "id": "46a2ad6f-2ff1-44fd-b84f-38ad9c4a6f00",
   "metadata": {},
   "source": [
    "The data is saved to `'samples/output/cat1.data'`.\n",
    "\n",
    "Note that the data's matching with other data is not saved. If you want to match the data (say `cat1`) with other datasets (say `cat4`), you have to merge the datasets into one dataset (say `merged_cat`), and save the merged dataset (`merged_cat`). If you save `cat1` to a \".data\" file and load it later, you are unable to recover the match between `cat1` and `cat4`.\n",
    "\n",
    "To load a \".data\" file and (mostly) recover `cat1`, the `astrotable.table.Data` object:"
   ]
  },
  {
   "cell_type": "code",
   "execution_count": 9,
   "id": "99fd111c-4fcf-4367-97c4-886d49329c0e",
   "metadata": {},
   "outputs": [],
   "source": [
    "cat1 = Data.load('samples/output/cat1.data')"
   ]
  },
  {
   "cell_type": "markdown",
   "id": "0cd12b5d-9eb1-4a56-ae39-18eebe825335",
   "metadata": {},
   "source": [
    "## Matching\n",
    "In this package, catalog B is said to be *matched to* A, if each record (row) in A is assigned two values:\n",
    "- Whether it can be matched to a record in catalog B;\n",
    "- The index of the best match record in catalog B (if no match possible, the index can be any number but means nothing).\n",
    "\n",
    "A is referred to as the *base data* of the match.\n",
    "\n",
    "### Matching with a built-in matcher\n",
    "To match `cat4` to `cat1` with the exact value of the `'survey1_id'` field in `cat1` and the `'survey1_id'` field in `cat4`, use an `ExactMatcher`:"
   ]
  },
  {
   "cell_type": "code",
   "execution_count": 10,
   "id": "6d71dfe2-7749-4fb7-a654-0e9a4d62408c",
   "metadata": {},
   "outputs": [
    {
     "name": "stdout",
     "output_type": "stream",
     "text": [
      "\"cat4\" matched to \"cat1\": 56/100 matched.\n"
     ]
    },
    {
     "data": {
      "text/plain": [
       "<astrotable.table.Data at 0x2b3448bfd30>"
      ]
     },
     "execution_count": 10,
     "metadata": {},
     "output_type": "execute_result"
    }
   ],
   "source": [
    "from astrotable.matcher import ExactMatcher\n",
    "cat1.match(cat4, ExactMatcher('survey1_id', 'survey1_id'))"
   ]
  },
  {
   "cell_type": "markdown",
   "id": "ad833467-1b4b-4d13-b671-da54fda6d975",
   "metadata": {},
   "source": [
    "Since there are more than one records for the same `'survey1_id'` in `cat4`, matching `cat1` to `cat4` is not equal to matching `cat4` to `cat1`:"
   ]
  },
  {
   "cell_type": "code",
   "execution_count": 11,
   "id": "320b3605-d2bc-46b3-9e3e-1c88407a36bf",
   "metadata": {},
   "outputs": [
    {
     "name": "stdout",
     "output_type": "stream",
     "text": [
      "\"cat1\" matched to \"cat4\": 70/70 matched.\n"
     ]
    },
    {
     "data": {
      "text/plain": [
       "<astrotable.table.Data at 0x2b3443f2530>"
      ]
     },
     "execution_count": 11,
     "metadata": {},
     "output_type": "execute_result"
    }
   ],
   "source": [
    "cat4.match(cat1, ExactMatcher('survey1_id', 'survey1_id'))"
   ]
  },
  {
   "cell_type": "markdown",
   "id": "532a817f-1fd3-47d2-b55f-7918be988125",
   "metadata": {},
   "source": [
    "You may use any iterable object (e.g. an array) to match the catalogs, provided that what is used to match catalogs has the same length (i.e. number of records) as the catalogs."
   ]
  },
  {
   "cell_type": "code",
   "execution_count": 12,
   "id": "4fe0255a-4d86-4469-bc79-114be8caa63c",
   "metadata": {},
   "outputs": [
    {
     "name": "stdout",
     "output_type": "stream",
     "text": [
      "len(cat3v) = 110\n",
      "len(cat3id) = 110\n",
      "\"cat3v\" matched to \"cat2\": 110/150 matched.\n"
     ]
    },
    {
     "data": {
      "text/plain": [
       "<astrotable.table.Data at 0x2b3443f36d0>"
      ]
     },
     "execution_count": 12,
     "metadata": {},
     "output_type": "execute_result"
    }
   ],
   "source": [
    "print('len(cat3v) =', len(cat3v))\n",
    "print('len(cat3id) =', len(cat3id))\n",
    "cat2.match(cat3v, ExactMatcher('survey2_id', cat3id.t['survey2_id']))"
   ]
  },
  {
   "cell_type": "markdown",
   "id": "1f78d6bb-0b16-4830-a521-7eaa7f1494b8",
   "metadata": {},
   "source": [
    "You can also match data with thier coordinates:"
   ]
  },
  {
   "cell_type": "code",
   "execution_count": 13,
   "id": "b538b0c5-fafa-4621-aef3-bbc1f6e59ab2",
   "metadata": {},
   "outputs": [
    {
     "name": "stdout",
     "output_type": "stream",
     "text": [
      "Data cat1: found RA name 'RA' and Dec name 'Dec'.\n",
      "Data cat2: found RA name 'RA' and Dec name 'Dec'.\n",
      "\"cat2\" matched to \"cat1\": 90/100 matched.\n"
     ]
    },
    {
     "data": {
      "text/plain": [
       "<astrotable.table.Data at 0x2b3448bfd30>"
      ]
     },
     "execution_count": 13,
     "metadata": {},
     "output_type": "execute_result"
    }
   ],
   "source": [
    "from astrotable.matcher import SkyMatcher\n",
    "import astropy.units as u\n",
    "cat1.match(cat2, SkyMatcher(unit=u.deg, unit1=(u.h, u.deg))) # RA for cat1 is dms; RA for cat2 is hms."
   ]
  },
  {
   "cell_type": "markdown",
   "id": "23eee20e-74a9-4476-8b88-821841cb6636",
   "metadata": {},
   "source": [
    "For more information on `SkyMatcher`, use `help(SkyMatcher)`.\n",
    "\n",
    "To remove all matches to `cat1`, use:"
   ]
  },
  {
   "cell_type": "code",
   "execution_count": 14,
   "id": "3bf6b271-99ea-406a-9576-29939e6e67b3",
   "metadata": {},
   "outputs": [],
   "source": [
    "# cat1.reset_match()"
   ]
  },
  {
   "cell_type": "markdown",
   "id": "f2b42c18-1163-41e6-b603-68593ba629e4",
   "metadata": {},
   "source": [
    "To unmatch `cat2` from `cat1`:"
   ]
  },
  {
   "cell_type": "code",
   "execution_count": 15,
   "id": "922e528c-3553-4f0e-b60f-a425d812b66a",
   "metadata": {},
   "outputs": [
    {
     "name": "stdout",
     "output_type": "stream",
     "text": [
      "\"cat2\" unmatched to \"cat1\".\n"
     ]
    }
   ],
   "source": [
    "cat1.unmatch(cat2)"
   ]
  },
  {
   "cell_type": "markdown",
   "id": "02fe4640-8b46-4afa-b5f7-25c9e13f4e11",
   "metadata": {},
   "source": [
    "For `SkyMatcher`, you can also explore the distribution of minimum sky distances, i.e. the distance to the nearest object in `cat2` for each object in `cat1`:"
   ]
  },
  {
   "cell_type": "code",
   "execution_count": 16,
   "id": "063bbc9c-7813-46ab-9ded-8aa16cc73c8a",
   "metadata": {},
   "outputs": [
    {
     "name": "stdout",
     "output_type": "stream",
     "text": [
      "Data cat1: found RA name 'RA' and Dec name 'Dec'.\n",
      "Data cat2: found RA name 'RA' and Dec name 'Dec'.\n",
      "\"cat2\" matched to \"cat1\": 90/100 matched.\n"
     ]
    },
    {
     "data": {
      "text/plain": [
       "<astrotable.table.Data at 0x2b3448bfd30>"
      ]
     },
     "execution_count": 16,
     "metadata": {},
     "output_type": "execute_result"
    },
    {
     "data": {
      "image/png": "[encoded data removed]",
      "text/plain": [
       "<Figure size 640x480 with 1 Axes>"
      ]
     },
     "metadata": {},
     "output_type": "display_data"
    }
   ],
   "source": [
    "skymatcher = SkyMatcher(unit=u.deg, unit1=(u.h, u.deg))\n",
    "skymatcher.explore(cat1, cat2)\n",
    "cat1.match(cat2, skymatcher)"
   ]
  },
  {
   "cell_type": "markdown",
   "id": "3d7c4e18-76fb-48d7-ac67-67322cda8421",
   "metadata": {},
   "source": [
    "### Defining custom matchers\n",
    "**Note**: This part is for advanced users. If you are new to this package, you may skip this part for now.\n",
    "\n",
    "You may also define your own matchers. A macther class should be defined like this:"
   ]
  },
  {
   "cell_type": "code",
   "execution_count": 17,
   "id": "5b775cb7-b74d-4c77-aed6-2cce0ff7c0d5",
   "metadata": {},
   "outputs": [],
   "source": [
    "class MyMatcher():\n",
    "    def __init__(self, args): # 'args' means any number of arguments that you need\n",
    "        # initialize it with args you need\n",
    "        pass\n",
    "    \n",
    "    def get_values(self, data, data1, verbose=True): # data1 is matched to data\n",
    "        # prepare the data that is needed to do the matching (if necessary)\n",
    "        pass\n",
    "    \n",
    "    def match(self):\n",
    "        # do the matching process and calculate:\n",
    "        # idx : array of shape (len(data), ). \n",
    "        #     the index of a record in data1 that best matches the records in data\n",
    "        # matched : boolean array of shape (len(data), ).\n",
    "        #     whether the records in data can be matched to those in data1.\n",
    "        return idx, matched"
   ]
  },
  {
   "cell_type": "markdown",
   "id": "71d21e11-fa4d-4ac7-8bbf-0edacd8cdf9d",
   "metadata": {},
   "source": [
    "## Merging catalogs"
   ]
  },
  {
   "cell_type": "markdown",
   "id": "b64b669e-49f7-4cb6-a4c1-0ccdba8ca96d",
   "metadata": {},
   "source": [
    "### Match tree\n",
    "If B is matched to A, I call A as the *child data* of B, and B as the *parent data* of A.\n",
    "\n",
    "Say B, C are matched to A, and D is matched to B. Then B, C are children of A, and D is child of B. When we try to merge everything into A<!-- (i.e. add the information of corresponding records in B, C, D into A)--> (i.e. merge the information in A's chilren, grandchildren, etc. into A), it may be useful to see all of its children/grandchildren, or what I call the *match tree*:"
   ]
  },
  {
   "cell_type": "code",
   "execution_count": 18,
   "id": "70b0698a-7172-423e-8a0f-666b086fe814",
   "metadata": {},
   "outputs": [
    {
     "name": "stdout",
     "output_type": "stream",
     "text": [
      "Names with parentheses are already matched, thus they are not expanded and will be ignored when merging.\n",
      "---------------\n",
      "cat1\n",
      ":   cat4\n",
      ":   :   (cat1)\n",
      ":   cat2\n",
      ":   :   cat3v\n",
      "---------------\n"
     ]
    }
   ],
   "source": [
    "cat1.match_tree(detail=False)"
   ]
  },
  {
   "cell_type": "markdown",
   "id": "c269fdcf-b76e-4b32-a952-fa2c3dd30741",
   "metadata": {},
   "source": [
    "From the *match tree* we may see that `cat4` and `cat2` are matched to `cat1` and `cat3v` is matched to `cat2`. Although `cat1` is also matched to `cat4`, this match is a duplication in this match tree, and will be ignored when merging everything (`cat4`, `cat2` and `cat3v`) into `cat1`.\n",
    "\n",
    "For more information on how they are matched:"
   ]
  },
  {
   "cell_type": "code",
   "execution_count": 19,
   "id": "d71193f1-4322-4d1c-892a-4b340778dfdd",
   "metadata": {},
   "outputs": [
    {
     "name": "stdout",
     "output_type": "stream",
     "text": [
      "Names with parentheses are already matched, thus they are not expanded and will be ignored when merging.\n",
      "---------------\n",
      "cat1 [base]\n",
      ":   cat4 [ExactMatcher('survey1_id', 'survey1_id')]\n",
      ":   :   (cat1) [ExactMatcher('survey1_id', 'survey1_id')]\n",
      ":   cat2 [SkyMatcher with thres=1]\n",
      ":   :   cat3v [ExactMatcher('survey2_id', 'survey2_id')]\n",
      "---------------\n"
     ]
    }
   ],
   "source": [
    "cat1.match_tree(detail=True)"
   ]
  },
  {
   "cell_type": "markdown",
   "id": "9fbc7b17-97c7-40dc-8852-d743f0a9b94d",
   "metadata": {},
   "source": [
    "For example, we may also use `cat4` as the base catalog:"
   ]
  },
  {
   "cell_type": "code",
   "execution_count": 20,
   "id": "f6db23fb-54b0-45f6-9671-5889b8293b41",
   "metadata": {},
   "outputs": [
    {
     "name": "stdout",
     "output_type": "stream",
     "text": [
      "Names with parentheses are already matched, thus they are not expanded and will be ignored when merging.\n",
      "---------------\n",
      "cat4\n",
      ":   cat1\n",
      ":   :   (cat4)\n",
      ":   :   cat2\n",
      ":   :   :   cat3v\n",
      "---------------\n"
     ]
    }
   ],
   "source": [
    "cat4.match_tree(detail=False)"
   ]
  },
  {
   "cell_type": "markdown",
   "id": "5a4549cc-abf0-49fb-a521-ac8705af0705",
   "metadata": {},
   "source": [
    "### Catalog merging\n",
    "Now we can merge everything possible to be merged into `cat1`:"
   ]
  },
  {
   "cell_type": "code",
   "execution_count": 21,
   "id": "d618c762-ce2c-4a00-a927-f7728b677732",
   "metadata": {},
   "outputs": [
    {
     "name": "stdout",
     "output_type": "stream",
     "text": [
      "merged: cat1, cat4, cat2, cat3v\n",
      "Name: my_merged_catalog\n"
     ]
    },
    {
     "data": {
      "text/html": [
       "<div><i>Table length=37</i>\n",
       "<table id=\"table2969006499696\" class=\"table-striped table-bordered table-condensed\">\n",
       "<thead><tr><th>survey1_id_cat1</th><th>RA_cat1</th><th>Dec_cat1</th><th>A</th><th>B</th><th>id</th><th>survey1_id_cat4</th><th>i</th><th>j</th><th>survey2_id_cat2</th><th>RA_cat2</th><th>Dec_cat2</th><th>a</th><th>b</th><th>survey2_id_cat3v</th><th>x</th><th>y</th><th>class1</th></tr></thead>\n",
       "<thead><tr><th>int32</th><th>float64</th><th>float64</th><th>int32</th><th>int32</th><th>int32</th><th>int32</th><th>int32</th><th>int32</th><th>int32</th><th>float64</th><th>float64</th><th>int32</th><th>int32</th><th>int32</th><th>int32</th><th>int32</th><th>str8</th></tr></thead>\n",
       "<tr><td>0</td><td>134.8344427850505</td><td>-87.17137328819392</td><td>1648</td><td>312</td><td>61</td><td>0</td><td>4612</td><td>3147</td><td>94</td><td>8.98895958611857</td><td>-87.17137328819392</td><td>3191</td><td>50</td><td>94</td><td>671</td><td>583</td><td>Type II</td></tr>\n",
       "<tr><td>1</td><td>342.2571503075698</td><td>-32.72306298625976</td><td>5539</td><td>35</td><td>24</td><td>1</td><td>6262</td><td>5704</td><td>90</td><td>22.817134875833332</td><td>-32.72306298625976</td><td>5383</td><td>38</td><td>90</td><td>288</td><td>458</td><td>Type II</td></tr>\n",
       "<tr><td>2</td><td>263.51781905210584</td><td>-61.7079617031306</td><td>9637</td><td>172</td><td>8</td><td>2</td><td>3568</td><td>6944</td><td>103</td><td>17.56785302820989</td><td>-61.7079617031306</td><td>943</td><td>16</td><td>103</td><td>523</td><td>685</td><td>Type II</td></tr>\n",
       "<tr><td>7</td><td>311.82341247897665</td><td>-22.000397531125614</td><td>98</td><td>399</td><td>16</td><td>7</td><td>1274</td><td>5188</td><td>101</td><td>20.78823016812825</td><td>-22.000397531125614</td><td>5005</td><td>48</td><td>101</td><td>223</td><td>116</td><td>Type III</td></tr>\n",
       "<tr><td>9</td><td>254.90612800657638</td><td>-83.07180811540863</td><td>2961</td><td>459</td><td>52</td><td>9</td><td>891</td><td>5450</td><td>113</td><td>16.993742542070294</td><td>-83.07180811540863</td><td>1308</td><td>7</td><td>113</td><td>515</td><td>659</td><td>Type II</td></tr>\n",
       "<tr><td>11</td><td>349.16754677831796</td><td>-75.4900841471396</td><td>4433</td><td>470</td><td>7</td><td>11</td><td>6116</td><td>6083</td><td>53</td><td>23.277828530405216</td><td>-75.4900841471396</td><td>3495</td><td>28</td><td>53</td><td>674</td><td>272</td><td>Type III</td></tr>\n",
       "<tr><td>16</td><td>109.52720746543358</td><td>-17.669513079079692</td><td>6944</td><td>287</td><td>36</td><td>16</td><td>1239</td><td>1347</td><td>83</td><td>7.3018168152337175</td><td>-17.669513079079692</td><td>2490</td><td>16</td><td>83</td><td>569</td><td>462</td><td>Type III</td></tr>\n",
       "<tr><td>19</td><td>104.8424904712951</td><td>-41.459198227591436</td><td>4911</td><td>341</td><td>63</td><td>19</td><td>1198</td><td>4806</td><td>104</td><td>6.989499173053064</td><td>-41.459198227591436</td><td>4425</td><td>73</td><td>104</td><td>556</td><td>785</td><td>Type III</td></tr>\n",
       "<tr><td>20</td><td>220.2670421000566</td><td>-17.33038603523437</td><td>3987</td><td>50</td><td>11</td><td>20</td><td>2203</td><td>5406</td><td>78</td><td>14.68447580405005</td><td>-17.33038603523437</td><td>3079</td><td>25</td><td>78</td><td>473</td><td>165</td><td>Type I</td></tr>\n",
       "<tr><td>22</td><td>105.17207347267853</td><td>-61.37968725253225</td><td>6015</td><td>185</td><td>48</td><td>22</td><td>6294</td><td>1000</td><td>66</td><td>7.011474039293205</td><td>-61.37968725253225</td><td>3335</td><td>21</td><td>66</td><td>669</td><td>656</td><td>Type III</td></tr>\n",
       "<tr><td>...</td><td>...</td><td>...</td><td>...</td><td>...</td><td>...</td><td>...</td><td>...</td><td>...</td><td>...</td><td>...</td><td>...</td><td>...</td><td>...</td><td>...</td><td>...</td><td>...</td><td>...</td></tr>\n",
       "<tr><td>69</td><td>355.2792971761862</td><td>-36.81963511305824</td><td>8319</td><td>91</td><td>35</td><td>69</td><td>2289</td><td>7114</td><td>46</td><td>23.685285687773018</td><td>-36.81963511305824</td><td>2079</td><td>1</td><td>46</td><td>257</td><td>590</td><td>Type II</td></tr>\n",
       "<tr><td>77</td><td>26.65607462427253</td><td>-55.193818832951635</td><td>3863</td><td>278</td><td>23</td><td>77</td><td>281</td><td>574</td><td>110</td><td>1.7770800016118025</td><td>-55.193818832951635</td><td>3452</td><td>79</td><td>110</td><td>221</td><td>394</td><td>Type II</td></tr>\n",
       "<tr><td>78</td><td>129.04766227593814</td><td>-5.694301013693888</td><td>7455</td><td>126</td><td>0</td><td>78</td><td>7029</td><td>6887</td><td>42</td><td>8.603179857588493</td><td>-5.694301013693888</td><td>2482</td><td>91</td><td>42</td><td>195</td><td>720</td><td>Type III</td></tr>\n",
       "<tr><td>79</td><td>41.7128614290467</td><td>-77.6231150268606</td><td>4014</td><td>392</td><td>55</td><td>79</td><td>9556</td><td>821</td><td>0</td><td>2.780858910895596</td><td>-77.6231150268606</td><td>474</td><td>65</td><td>0</td><td>39</td><td>488</td><td>Type II</td></tr>\n",
       "<tr><td>83</td><td>22.88100610296851</td><td>-11.039458195711703</td><td>154</td><td>121</td><td>33</td><td>83</td><td>8467</td><td>3230</td><td>96</td><td>1.5254003596640098</td><td>-11.039458195711703</td><td>3983</td><td>97</td><td>96</td><td>570</td><td>83</td><td>Type III</td></tr>\n",
       "<tr><td>86</td><td>262.6582242017031</td><td>-16.45000198189058</td><td>8096</td><td>289</td><td>19</td><td>86</td><td>3953</td><td>3291</td><td>43</td><td>17.510545262394547</td><td>-16.45000198189058</td><td>951</td><td>61</td><td>43</td><td>39</td><td>21</td><td>Type II</td></tr>\n",
       "<tr><td>88</td><td>319.39658732747756</td><td>-42.33144794795942</td><td>7343</td><td>125</td><td>32</td><td>88</td><td>4585</td><td>6732</td><td>75</td><td>21.293101039889653</td><td>-42.33144794795942</td><td>1823</td><td>61</td><td>75</td><td>680</td><td>773</td><td>Type II</td></tr>\n",
       "<tr><td>93</td><td>202.05979112501865</td><td>-33.020868845405886</td><td>537</td><td>236</td><td>18</td><td>93</td><td>1939</td><td>3673</td><td>136</td><td>13.470648167799785</td><td>-33.020868845405886</td><td>5399</td><td>25</td><td>136</td><td>241</td><td>788</td><td>Type I</td></tr>\n",
       "<tr><td>98</td><td>9.150885627874267</td><td>-10.162221816139436</td><td>5625</td><td>486</td><td>14</td><td>98</td><td>1925</td><td>3124</td><td>81</td><td>0.6100575664012837</td><td>-10.162221816139436</td><td>2806</td><td>72</td><td>81</td><td>413</td><td>520</td><td>Type III</td></tr>\n",
       "<tr><td>99</td><td>38.8409137175896</td><td>-19.811200872813856</td><td>2950</td><td>191</td><td>17</td><td>99</td><td>956</td><td>2408</td><td>69</td><td>2.589396089660706</td><td>-19.811200872813856</td><td>4873</td><td>32</td><td>69</td><td>277</td><td>716</td><td>Type II</td></tr>\n",
       "</table></div>"
      ],
      "text/plain": [
       "<Table length=37>\n",
       "survey1_id_cat1      RA_cat1             Dec_cat1      ...   x     y    class1 \n",
       "     int32           float64             float64       ... int32 int32   str8  \n",
       "--------------- ------------------ ------------------- ... ----- ----- --------\n",
       "              0  134.8344427850505  -87.17137328819392 ...   671   583  Type II\n",
       "              1  342.2571503075698  -32.72306298625976 ...   288   458  Type II\n",
       "              2 263.51781905210584   -61.7079617031306 ...   523   685  Type II\n",
       "              7 311.82341247897665 -22.000397531125614 ...   223   116 Type III\n",
       "              9 254.90612800657638  -83.07180811540863 ...   515   659  Type II\n",
       "             11 349.16754677831796   -75.4900841471396 ...   674   272 Type III\n",
       "             16 109.52720746543358 -17.669513079079692 ...   569   462 Type III\n",
       "             19  104.8424904712951 -41.459198227591436 ...   556   785 Type III\n",
       "             20  220.2670421000566  -17.33038603523437 ...   473   165   Type I\n",
       "             22 105.17207347267853  -61.37968725253225 ...   669   656 Type III\n",
       "            ...                ...                 ... ...   ...   ...      ...\n",
       "             69  355.2792971761862  -36.81963511305824 ...   257   590  Type II\n",
       "             77  26.65607462427253 -55.193818832951635 ...   221   394  Type II\n",
       "             78 129.04766227593814  -5.694301013693888 ...   195   720 Type III\n",
       "             79   41.7128614290467   -77.6231150268606 ...    39   488  Type II\n",
       "             83  22.88100610296851 -11.039458195711703 ...   570    83 Type III\n",
       "             86  262.6582242017031  -16.45000198189058 ...    39    21  Type II\n",
       "             88 319.39658732747756  -42.33144794795942 ...   680   773  Type II\n",
       "             93 202.05979112501865 -33.020868845405886 ...   241   788   Type I\n",
       "             98  9.150885627874267 -10.162221816139436 ...   413   520 Type III\n",
       "             99   38.8409137175896 -19.811200872813856 ...   277   716  Type II"
      ]
     },
     "execution_count": 21,
     "metadata": {},
     "output_type": "execute_result"
    }
   ],
   "source": [
    "merged_cat = cat1.merge(outname='my_merged_catalog')\n",
    "print(\"Name:\", merged_cat.name)\n",
    "merged_cat.t"
   ]
  },
  {
   "cell_type": "markdown",
   "id": "6eda7fa4-2323-4ee5-b645-f3f607d25cd9",
   "metadata": {},
   "source": [
    "Note that columns with the same names are renamed by the `name` of the `Data` objects. You may also check that the match is indeed correct.\n",
    "\n",
    "We may now save the merged catalog for later use:"
   ]
  },
  {
   "cell_type": "code",
   "execution_count": 22,
   "id": "8a7871b8-1269-4b5b-ba92-7e42947e903a",
   "metadata": {},
   "outputs": [],
   "source": [
    "merged_cat.save('samples/output/merged_cat', overwrite=True) # you don't need overwrite=True if file 'samples/output/merged_cat.data' does not exist\n",
    "# load with:\n",
    "# merged_cat = Data.load('samples/output/merged_cat.data')"
   ]
  },
  {
   "cell_type": "markdown",
   "id": "6352a50f-cb24-4333-91d5-b6847c0e59ff",
   "metadata": {},
   "source": [
    "### Source of a column\n",
    "Sometimes we forget the name of the data from which a column is merged. For example, we are sure that the column named `'A'` is merged from somewhere, but cannot recall the name of that dataset. We can use the `from_which()` method:"
   ]
  },
  {
   "cell_type": "code",
   "execution_count": 23,
   "id": "31011d30-4fda-4bfa-b6f6-0992f056015a",
   "metadata": {},
   "outputs": [
    {
     "data": {
      "text/plain": [
       "'cat1 (\"samples/catalog1.csv\")'"
      ]
     },
     "execution_count": 23,
     "metadata": {},
     "output_type": "execute_result"
    }
   ],
   "source": [
    "merged_cat.from_which('A')"
   ]
  },
  {
   "cell_type": "markdown",
   "id": "8492d6ea-fe5d-47d3-a136-291a546d4ac7",
   "metadata": {},
   "source": [
    "The column `'A'` indeed comes from `cat1`, which is loaded from `\"samples/catalog1.csv\"`.\n",
    "\n",
    "**WARNING**. The `from_which()` method has several limitations:\n",
    "- In some cases, the software cannot decide the source of the column, and `from_which()` will return an empty string.\n",
    "- Direct operations on the data table (`astropy.table.Table`), especially adding columns to the data table using the values of other columns, can result in incorrect results of `from_which()`. For example, instead of:"
   ]
  },
  {
   "cell_type": "code",
   "execution_count": 24,
   "id": "5daf1adc-5553-4de1-88a8-1a7e7df4770d",
   "metadata": {},
   "outputs": [
    {
     "data": {
      "text/plain": [
       "'cat1 (\"samples/catalog1.csv\")'"
      ]
     },
     "execution_count": 24,
     "metadata": {},
     "output_type": "execute_result"
    }
   ],
   "source": [
    "# WRONG:\n",
    "merged_cat.t['A+i (wrong)'] = merged_cat.t['A'] + merged_cat.t['i'] # adding a new column\n",
    "merged_cat.from_which('A+i (wrong)') # wrong result"
   ]
  },
  {
   "cell_type": "markdown",
   "id": "4719bc26-600e-4224-9f8b-8963c034da44",
   "metadata": {},
   "source": [
    "use:"
   ]
  },
  {
   "cell_type": "code",
   "execution_count": 25,
   "id": "31a819c1-98db-4ee0-8b99-189d9761f85f",
   "metadata": {},
   "outputs": [
    {
     "data": {
      "text/plain": [
       "'user-added ()'"
      ]
     },
     "execution_count": 25,
     "metadata": {},
     "output_type": "execute_result"
    }
   ],
   "source": [
    "# CORRECT:\n",
    "merged_cat['A+i (right)'] = merged_cat['A'] + merged_cat['i'] # adding a new column\n",
    "merged_cat.from_which('A+i (right)') # right result: this column is added by the user"
   ]
  },
  {
   "cell_type": "markdown",
   "id": "d28f31d7-b29e-4460-9bc6-5d51ac76f1d7",
   "metadata": {},
   "source": [
    "### Merging options\n",
    "\n",
    "Maybe you want to keep records that cannot be matched to `cat3v` and only want to merge subsets of columns from the catalogs:"
   ]
  },
  {
   "cell_type": "code",
   "execution_count": 26,
   "id": "a01eae76-bfba-432b-81d4-b27ce403d36f",
   "metadata": {},
   "outputs": [
    {
     "name": "stdout",
     "output_type": "stream",
     "text": [
      "entries with no match for cat3v is kept.\n",
      "merged: cat1, cat4, cat2, cat3v\n",
      "Name: match_cat1_cat4_cat2_cat3v\n"
     ]
    },
    {
     "data": {
      "text/html": [
       "<div><i>Table length=51</i>\n",
       "<table id=\"table2969003792016\" class=\"table-striped table-bordered table-condensed\">\n",
       "<thead><tr><th>survey1_id</th><th>RA</th><th>Dec</th><th>i</th><th>j</th><th>survey2_id</th><th>class1</th></tr></thead>\n",
       "<thead><tr><th>int32</th><th>float64</th><th>float64</th><th>int32</th><th>int32</th><th>int32</th><th>str8</th></tr></thead>\n",
       "<tr><td>0</td><td>134.8344427850505</td><td>-87.17137328819392</td><td>4612</td><td>3147</td><td>94</td><td>Type II</td></tr>\n",
       "<tr><td>1</td><td>342.2571503075698</td><td>-32.72306298625976</td><td>6262</td><td>5704</td><td>90</td><td>Type II</td></tr>\n",
       "<tr><td>2</td><td>263.51781905210584</td><td>-61.7079617031306</td><td>3568</td><td>6944</td><td>103</td><td>Type II</td></tr>\n",
       "<tr><td>4</td><td>56.16671055927715</td><td>-8.319017346651634</td><td>5342</td><td>1667</td><td>122</td><td>--</td></tr>\n",
       "<tr><td>5</td><td>56.158027321032954</td><td>-67.56369937660125</td><td>3192</td><td>986</td><td>92</td><td>--</td></tr>\n",
       "<tr><td>7</td><td>311.82341247897665</td><td>-22.000397531125614</td><td>1274</td><td>5188</td><td>101</td><td>Type III</td></tr>\n",
       "<tr><td>9</td><td>254.90612800657638</td><td>-83.07180811540863</td><td>891</td><td>5450</td><td>113</td><td>Type II</td></tr>\n",
       "<tr><td>10</td><td>7.410417946488881</td><td>-63.922369237760876</td><td>1969</td><td>1388</td><td>14</td><td>--</td></tr>\n",
       "<tr><td>11</td><td>349.16754677831796</td><td>-75.4900841471396</td><td>6116</td><td>6083</td><td>53</td><td>Type III</td></tr>\n",
       "<tr><td>13</td><td>76.44207984417942</td><td>-17.269165839202472</td><td>9235</td><td>703</td><td>112</td><td>--</td></tr>\n",
       "<tr><td>...</td><td>...</td><td>...</td><td>...</td><td>...</td><td>...</td><td>...</td></tr>\n",
       "<tr><td>77</td><td>26.65607462427253</td><td>-55.193818832951635</td><td>281</td><td>574</td><td>110</td><td>Type II</td></tr>\n",
       "<tr><td>78</td><td>129.04766227593814</td><td>-5.694301013693888</td><td>7029</td><td>6887</td><td>42</td><td>Type III</td></tr>\n",
       "<tr><td>79</td><td>41.7128614290467</td><td>-77.6231150268606</td><td>9556</td><td>821</td><td>0</td><td>Type II</td></tr>\n",
       "<tr><td>83</td><td>22.88100610296851</td><td>-11.039458195711703</td><td>8467</td><td>3230</td><td>96</td><td>Type III</td></tr>\n",
       "<tr><td>86</td><td>262.6582242017031</td><td>-16.45000198189058</td><td>3953</td><td>3291</td><td>43</td><td>Type II</td></tr>\n",
       "<tr><td>88</td><td>319.39658732747756</td><td>-42.33144794795942</td><td>4585</td><td>6732</td><td>75</td><td>Type II</td></tr>\n",
       "<tr><td>93</td><td>202.05979112501865</td><td>-33.020868845405886</td><td>1939</td><td>3673</td><td>136</td><td>Type I</td></tr>\n",
       "<tr><td>96</td><td>188.18381857751785</td><td>-24.66398890167845</td><td>1742</td><td>5773</td><td>17</td><td>--</td></tr>\n",
       "<tr><td>98</td><td>9.150885627874267</td><td>-10.162221816139436</td><td>1925</td><td>3124</td><td>81</td><td>Type III</td></tr>\n",
       "<tr><td>99</td><td>38.8409137175896</td><td>-19.811200872813856</td><td>956</td><td>2408</td><td>69</td><td>Type II</td></tr>\n",
       "</table></div>"
      ],
      "text/plain": [
       "<Table length=51>\n",
       "survey1_id         RA                 Dec         ...   j   survey2_id  class1 \n",
       "  int32         float64             float64       ... int32   int32      str8  \n",
       "---------- ------------------ ------------------- ... ----- ---------- --------\n",
       "         0  134.8344427850505  -87.17137328819392 ...  3147         94  Type II\n",
       "         1  342.2571503075698  -32.72306298625976 ...  5704         90  Type II\n",
       "         2 263.51781905210584   -61.7079617031306 ...  6944        103  Type II\n",
       "         4  56.16671055927715  -8.319017346651634 ...  1667        122       --\n",
       "         5 56.158027321032954  -67.56369937660125 ...   986         92       --\n",
       "         7 311.82341247897665 -22.000397531125614 ...  5188        101 Type III\n",
       "         9 254.90612800657638  -83.07180811540863 ...  5450        113  Type II\n",
       "        10  7.410417946488881 -63.922369237760876 ...  1388         14       --\n",
       "        11 349.16754677831796   -75.4900841471396 ...  6083         53 Type III\n",
       "        13  76.44207984417942 -17.269165839202472 ...   703        112       --\n",
       "       ...                ...                 ... ...   ...        ...      ...\n",
       "        77  26.65607462427253 -55.193818832951635 ...   574        110  Type II\n",
       "        78 129.04766227593814  -5.694301013693888 ...  6887         42 Type III\n",
       "        79   41.7128614290467   -77.6231150268606 ...   821          0  Type II\n",
       "        83  22.88100610296851 -11.039458195711703 ...  3230         96 Type III\n",
       "        86  262.6582242017031  -16.45000198189058 ...  3291         43  Type II\n",
       "        88 319.39658732747756  -42.33144794795942 ...  6732         75  Type II\n",
       "        93 202.05979112501865 -33.020868845405886 ...  3673        136   Type I\n",
       "        96 188.18381857751785  -24.66398890167845 ...  5773         17       --\n",
       "        98  9.150885627874267 -10.162221816139436 ...  3124         81 Type III\n",
       "        99   38.8409137175896 -19.811200872813856 ...  2408         69  Type II"
      ]
     },
     "execution_count": 26,
     "metadata": {},
     "output_type": "execute_result"
    }
   ],
   "source": [
    "merge_columns = { # specify columns to be merged\n",
    "    'cat1': ['survey1_id', 'RA', 'Dec'],\n",
    "    'cat4': ['i', 'j'],\n",
    "    'cat2': ['survey2_id'],\n",
    "    'cat3v': ['class1'],\n",
    "    }\n",
    "\n",
    "keep_unmatched = ['cat3v'] # keep records that cannot be matched to cat3v\n",
    "\n",
    "another_merged_cat = cat1.merge(keep_unmatched=keep_unmatched, \n",
    "                                merge_columns=merge_columns) # use default outname\n",
    "print(\"Name:\", another_merged_cat.name)\n",
    "another_merged_cat.t"
   ]
  },
  {
   "cell_type": "markdown",
   "id": "148a746d-d425-4383-8354-0cb2ce3481c1",
   "metadata": {},
   "source": [
    "You can also specify the columns to be ignored during merging (the `ignore_columns` argument of `merge()`); see `help(Data.merge)` for details.\n",
    "\n",
    "You may also set the depth for `match_tree` and `merge` methods. Setting depth to 0 means only keeping the base catalog itself."
   ]
  },
  {
   "cell_type": "code",
   "execution_count": 27,
   "id": "ecfae4cb-e9bb-483f-ae69-5ffd5c1122ff",
   "metadata": {},
   "outputs": [
    {
     "name": "stdout",
     "output_type": "stream",
     "text": [
      "Names with parentheses are already matched, thus they are not expanded and will be ignored when merging.\n",
      "---------------\n",
      "cat4 [base]\n",
      ":   cat1 [ExactMatcher('survey1_id', 'survey1_id')]\n",
      ":   :   (cat4) [ExactMatcher('survey1_id', 'survey1_id')]\n",
      ":   :   cat2 [SkyMatcher with thres=1]\n",
      "---------------\n"
     ]
    }
   ],
   "source": [
    "cat4.match_tree(depth=2)"
   ]
  },
  {
   "cell_type": "code",
   "execution_count": 28,
   "id": "20262ee8-7686-4cf3-9384-5682ad5d2e5a",
   "metadata": {},
   "outputs": [
    {
     "name": "stdout",
     "output_type": "stream",
     "text": [
      "Names with parentheses are already matched, thus they are not expanded and will be ignored when merging.\n",
      "---------------\n",
      "cat4 [base]\n",
      "---------------\n"
     ]
    }
   ],
   "source": [
    "cat4.match_tree(depth=0)"
   ]
  },
  {
   "cell_type": "code",
   "execution_count": 29,
   "id": "44bfa2c8-b6b9-4483-86eb-c4a2844bf63a",
   "metadata": {},
   "outputs": [
    {
     "name": "stdout",
     "output_type": "stream",
     "text": [
      "merged: cat4, cat1\n"
     ]
    },
    {
     "data": {
      "text/html": [
       "<div><i>Table length=70</i>\n",
       "<table id=\"table2969003788608\" class=\"table-striped table-bordered table-condensed\">\n",
       "<thead><tr><th>id</th><th>survey1_id_cat4</th><th>i</th><th>j</th><th>survey1_id_cat1</th><th>RA</th><th>Dec</th><th>A</th><th>B</th></tr></thead>\n",
       "<thead><tr><th>int32</th><th>int32</th><th>int32</th><th>int32</th><th>int32</th><th>float64</th><th>float64</th><th>int32</th><th>int32</th></tr></thead>\n",
       "<tr><td>0</td><td>78</td><td>7029</td><td>6887</td><td>78</td><td>129.04766227593814</td><td>-5.694301013693888</td><td>7455</td><td>126</td></tr>\n",
       "<tr><td>1</td><td>33</td><td>6099</td><td>3952</td><td>33</td><td>341.59879341119995</td><td>-59.614634573673484</td><td>3436</td><td>325</td></tr>\n",
       "<tr><td>2</td><td>35</td><td>9499</td><td>4683</td><td>35</td><td>291.023045321926</td><td>-60.911736118132026</td><td>5895</td><td>53</td></tr>\n",
       "<tr><td>3</td><td>5</td><td>3192</td><td>986</td><td>5</td><td>56.158027321032954</td><td>-67.56369937660125</td><td>2557</td><td>263</td></tr>\n",
       "<tr><td>4</td><td>38</td><td>3178</td><td>1863</td><td>38</td><td>246.32388954437647</td><td>-57.273335785863544</td><td>4893</td><td>100</td></tr>\n",
       "<tr><td>5</td><td>41</td><td>6052</td><td>4440</td><td>41</td><td>178.26368764005727</td><td>-67.33959337571723</td><td>5600</td><td>52</td></tr>\n",
       "<tr><td>6</td><td>57</td><td>2734</td><td>4909</td><td>57</td><td>70.55383047089227</td><td>-21.45423462041542</td><td>606</td><td>307</td></tr>\n",
       "<tr><td>7</td><td>11</td><td>6116</td><td>6083</td><td>11</td><td>349.16754677831796</td><td>-75.4900841471396</td><td>4433</td><td>470</td></tr>\n",
       "<tr><td>8</td><td>2</td><td>3568</td><td>6944</td><td>2</td><td>263.51781905210584</td><td>-61.7079617031306</td><td>9637</td><td>172</td></tr>\n",
       "<tr><td>9</td><td>17</td><td>9847</td><td>3072</td><td>17</td><td>188.91231538760562</td><td>-73.20869470025677</td><td>4493</td><td>214</td></tr>\n",
       "<tr><td>...</td><td>...</td><td>...</td><td>...</td><td>...</td><td>...</td><td>...</td><td>...</td><td>...</td></tr>\n",
       "<tr><td>60</td><td>93</td><td>7519</td><td>7232</td><td>93</td><td>202.05979112501865</td><td>-33.020868845405886</td><td>537</td><td>236</td></tr>\n",
       "<tr><td>61</td><td>0</td><td>4612</td><td>3147</td><td>0</td><td>134.8344427850505</td><td>-87.17137328819392</td><td>1648</td><td>312</td></tr>\n",
       "<tr><td>62</td><td>4</td><td>9710</td><td>4089</td><td>4</td><td>56.16671055927715</td><td>-8.319017346651634</td><td>8445</td><td>320</td></tr>\n",
       "<tr><td>63</td><td>19</td><td>1198</td><td>4806</td><td>19</td><td>104.8424904712951</td><td>-41.459198227591436</td><td>4911</td><td>341</td></tr>\n",
       "<tr><td>64</td><td>7</td><td>5238</td><td>2190</td><td>7</td><td>311.82341247897665</td><td>-22.000397531125614</td><td>98</td><td>399</td></tr>\n",
       "<tr><td>65</td><td>42</td><td>6089</td><td>916</td><td>42</td><td>12.379867601478622</td><td>-45.24763446968531</td><td>7996</td><td>59</td></tr>\n",
       "<tr><td>66</td><td>75</td><td>6257</td><td>3986</td><td>75</td><td>262.4425804947554</td><td>-74.30702138955077</td><td>1895</td><td>116</td></tr>\n",
       "<tr><td>67</td><td>0</td><td>7705</td><td>2875</td><td>0</td><td>134.8344427850505</td><td>-87.17137328819392</td><td>1648</td><td>312</td></tr>\n",
       "<tr><td>68</td><td>56</td><td>3719</td><td>6748</td><td>56</td><td>31.85730073869102</td><td>-29.50780073347093</td><td>301</td><td>423</td></tr>\n",
       "<tr><td>69</td><td>63</td><td>302</td><td>5592</td><td>63</td><td>128.43119760969213</td><td>-41.78027843327174</td><td>980</td><td>157</td></tr>\n",
       "</table></div>"
      ],
      "text/plain": [
       "<Table length=70>\n",
       "  id  survey1_id_cat4   i     j   ...         Dec           A     B  \n",
       "int32      int32      int32 int32 ...       float64       int32 int32\n",
       "----- --------------- ----- ----- ... ------------------- ----- -----\n",
       "    0              78  7029  6887 ...  -5.694301013693888  7455   126\n",
       "    1              33  6099  3952 ... -59.614634573673484  3436   325\n",
       "    2              35  9499  4683 ... -60.911736118132026  5895    53\n",
       "    3               5  3192   986 ...  -67.56369937660125  2557   263\n",
       "    4              38  3178  1863 ... -57.273335785863544  4893   100\n",
       "    5              41  6052  4440 ...  -67.33959337571723  5600    52\n",
       "    6              57  2734  4909 ...  -21.45423462041542   606   307\n",
       "    7              11  6116  6083 ...   -75.4900841471396  4433   470\n",
       "    8               2  3568  6944 ...   -61.7079617031306  9637   172\n",
       "    9              17  9847  3072 ...  -73.20869470025677  4493   214\n",
       "  ...             ...   ...   ... ...                 ...   ...   ...\n",
       "   60              93  7519  7232 ... -33.020868845405886   537   236\n",
       "   61               0  4612  3147 ...  -87.17137328819392  1648   312\n",
       "   62               4  9710  4089 ...  -8.319017346651634  8445   320\n",
       "   63              19  1198  4806 ... -41.459198227591436  4911   341\n",
       "   64               7  5238  2190 ... -22.000397531125614    98   399\n",
       "   65              42  6089   916 ...  -45.24763446968531  7996    59\n",
       "   66              75  6257  3986 ...  -74.30702138955077  1895   116\n",
       "   67               0  7705  2875 ...  -87.17137328819392  1648   312\n",
       "   68              56  3719  6748 ...  -29.50780073347093   301   423\n",
       "   69              63   302  5592 ...  -41.78027843327174   980   157"
      ]
     },
     "execution_count": 29,
     "metadata": {},
     "output_type": "execute_result"
    }
   ],
   "source": [
    "cat4.merge(depth=1).t"
   ]
  },
  {
   "cell_type": "markdown",
   "id": "9ad6dcf6-f27e-4049-9310-9603a824a2ed",
   "metadata": {},
   "source": [
    "## Things to be noted\n",
    "\n",
    "This package does not support matching multiple records to a single record in the base data. For example, `table2` below has two records with the same `survey_id`:"
   ]
  },
  {
   "cell_type": "code",
   "execution_count": 30,
   "id": "5b27e4eb-dc48-47eb-b76d-c5aeae597eaa",
   "metadata": {},
   "outputs": [
    {
     "data": {
      "text/html": [
       "<div><i>Table length=3</i>\n",
       "<table id=\"table2969003789616\" class=\"table-striped table-bordered table-condensed\">\n",
       "<thead><tr><th>survey_id</th><th>value</th></tr></thead>\n",
       "<thead><tr><th>int32</th><th>str1</th></tr></thead>\n",
       "<tr><td>0</td><td>A</td></tr>\n",
       "<tr><td>1</td><td>B</td></tr>\n",
       "<tr><td>2</td><td>C</td></tr>\n",
       "</table></div>"
      ],
      "text/plain": [
       "<Table length=3>\n",
       "survey_id value\n",
       "  int32    str1\n",
       "--------- -----\n",
       "        0     A\n",
       "        1     B\n",
       "        2     C"
      ]
     },
     "execution_count": 30,
     "metadata": {},
     "output_type": "execute_result"
    }
   ],
   "source": [
    "table1 = Data({'survey_id': [0, 1, 2], 'value': ['A', 'B', 'C']}, name='t1')\n",
    "table1.t"
   ]
  },
  {
   "cell_type": "code",
   "execution_count": 31,
   "id": "46710465-20bb-4c12-80a7-8a4e5ad0bb2c",
   "metadata": {},
   "outputs": [
    {
     "data": {
      "text/html": [
       "<div><i>Table length=3</i>\n",
       "<table id=\"table2969003796816\" class=\"table-striped table-bordered table-condensed\">\n",
       "<thead><tr><th>table2_id</th><th>survey_id</th></tr></thead>\n",
       "<thead><tr><th>int32</th><th>int32</th></tr></thead>\n",
       "<tr><td>0</td><td>0</td></tr>\n",
       "<tr><td>1</td><td>1</td></tr>\n",
       "<tr><td>2</td><td>0</td></tr>\n",
       "</table></div>"
      ],
      "text/plain": [
       "<Table length=3>\n",
       "table2_id survey_id\n",
       "  int32     int32  \n",
       "--------- ---------\n",
       "        0         0\n",
       "        1         1\n",
       "        2         0"
      ]
     },
     "execution_count": 31,
     "metadata": {},
     "output_type": "execute_result"
    }
   ],
   "source": [
    "table2 = Data({'table2_id': [0, 1, 2], 'survey_id': [0, 1, 0]}, name='t2')\n",
    "table2.t"
   ]
  },
  {
   "cell_type": "markdown",
   "id": "421b9bca-243c-4e35-b6f5-e234f06b3bec",
   "metadata": {},
   "source": [
    "If you match `table2` to `table1` by `survey_id` using `ExactMatcher`, the first exact match in `table2` will be used:"
   ]
  },
  {
   "cell_type": "code",
   "execution_count": 32,
   "id": "90b5fe13-386f-467f-810d-cec49be1874d",
   "metadata": {},
   "outputs": [
    {
     "name": "stdout",
     "output_type": "stream",
     "text": [
      "\"t2\" matched to \"t1\": 2/3 matched.\n",
      "merged: t1, t2\n"
     ]
    },
    {
     "data": {
      "text/html": [
       "<div><i>Table length=2</i>\n",
       "<table id=\"table2969003797824\" class=\"table-striped table-bordered table-condensed\">\n",
       "<thead><tr><th>survey_id_t1</th><th>value</th><th>table2_id</th><th>survey_id_t2</th></tr></thead>\n",
       "<thead><tr><th>int32</th><th>str1</th><th>int32</th><th>int32</th></tr></thead>\n",
       "<tr><td>0</td><td>A</td><td>0</td><td>0</td></tr>\n",
       "<tr><td>1</td><td>B</td><td>1</td><td>1</td></tr>\n",
       "</table></div>"
      ],
      "text/plain": [
       "<Table length=2>\n",
       "survey_id_t1 value table2_id survey_id_t2\n",
       "   int32      str1   int32      int32    \n",
       "------------ ----- --------- ------------\n",
       "           0     A         0            0\n",
       "           1     B         1            1"
      ]
     },
     "execution_count": 32,
     "metadata": {},
     "output_type": "execute_result"
    }
   ],
   "source": [
    "table1.match(table2, ExactMatcher('survey_id', 'survey_id')).merge().t"
   ]
  },
  {
   "cell_type": "markdown",
   "id": "f97e2370-aef2-4240-910e-d5564d3ce1e9",
   "metadata": {},
   "source": [
    "If you wish to keep the records with the same `sruvey_id` in `table2`, you may match `table1` to `table2` instead of matching `table2` to `table1`:"
   ]
  },
  {
   "cell_type": "code",
   "execution_count": 33,
   "id": "5610bde8-11f9-42e2-bcd6-b63185b6ab0f",
   "metadata": {},
   "outputs": [
    {
     "name": "stdout",
     "output_type": "stream",
     "text": [
      "\"t1\" matched to \"t2\": 3/3 matched.\n",
      "merged: t2, t1\n"
     ]
    },
    {
     "data": {
      "text/html": [
       "<div><i>Table length=3</i>\n",
       "<table id=\"table2969003787600\" class=\"table-striped table-bordered table-condensed\">\n",
       "<thead><tr><th>table2_id</th><th>survey_id_t2</th><th>survey_id_t1</th><th>value</th></tr></thead>\n",
       "<thead><tr><th>int32</th><th>int32</th><th>int32</th><th>str1</th></tr></thead>\n",
       "<tr><td>0</td><td>0</td><td>0</td><td>A</td></tr>\n",
       "<tr><td>1</td><td>1</td><td>1</td><td>B</td></tr>\n",
       "<tr><td>2</td><td>0</td><td>0</td><td>A</td></tr>\n",
       "</table></div>"
      ],
      "text/plain": [
       "<Table length=3>\n",
       "table2_id survey_id_t2 survey_id_t1 value\n",
       "  int32      int32        int32      str1\n",
       "--------- ------------ ------------ -----\n",
       "        0            0            0     A\n",
       "        1            1            1     B\n",
       "        2            0            0     A"
      ]
     },
     "execution_count": 33,
     "metadata": {},
     "output_type": "execute_result"
    }
   ],
   "source": [
    "table2.match(table1, ExactMatcher('survey_id', 'survey_id')).merge().t"
   ]
  },
  {
   "cell_type": "markdown",
   "id": "3ea97e35-31d5-49ca-beb2-d224561cc654",
   "metadata": {},
   "source": [
    "Or you may merge these records (with the same `sruvey_id`) before matching and merging the catalogs."
   ]
  }
 ],
 "metadata": {
  "kernelspec": {
   "display_name": "Python 3 (ipykernel)",
   "language": "python",
   "name": "python3"
  },
  "language_info": {
   "codemirror_mode": {
    "name": "ipython",
    "version": 3
   },
   "file_extension": ".py",
   "mimetype": "text/x-python",
   "name": "python",
   "nbconvert_exporter": "python",
   "pygments_lexer": "ipython3",
   "version": "3.10.6"
  }
 },
 "nbformat": 4,
 "nbformat_minor": 5
}
