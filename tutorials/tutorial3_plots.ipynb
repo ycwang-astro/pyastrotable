{
 "cells": [
  {
   "cell_type": "markdown",
   "id": "ea37a515-611b-4f4f-adbb-e9cdcda93f68",
   "metadata": {},
   "source": [
    "# Making plots with built-in functions in `astrotable`"
   ]
  },
  {
   "cell_type": "markdown",
   "id": "85142370-3278-4437-9e26-af655e95a140",
   "metadata": {},
   "source": [
    "## Scatter plot\n",
    "tutorial coming soon"
   ]
  }
 ],
 "metadata": {
  "kernelspec": {
   "display_name": "Python 3 (ipykernel)",
   "language": "python",
   "name": "python3"
  },
  "language_info": {
   "codemirror_mode": {
    "name": "ipython",
    "version": 3
   },
   "file_extension": ".py",
   "mimetype": "text/x-python",
   "name": "python",
   "nbconvert_exporter": "python",
   "pygments_lexer": "ipython3",
   "version": "3.10.6"
  }
 },
 "nbformat": 4,
 "nbformat_minor": 5
}
